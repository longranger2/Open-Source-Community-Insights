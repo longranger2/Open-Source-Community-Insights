{
 "cells": [
  {
   "cell_type": "code",
   "execution_count": 1,
   "metadata": {
    "execution": {
     "iopub.execute_input": "2022-09-19T05:51:13.602455Z",
     "iopub.status.busy": "2022-09-19T05:51:13.600945Z",
     "iopub.status.idle": "2022-09-19T05:51:13.606669Z",
     "shell.execute_reply": "2022-09-19T05:51:13.605603Z",
     "shell.execute_reply.started": "2022-09-19T05:51:13.602401Z"
    },
    "scrolled": true,
    "tags": []
   },
   "outputs": [],
   "source": [
    "import numpy as np\n",
    "import pandas as pd\n",
    "import datetime\n",
    "pd.set_option('display.max_rows',None)"
   ]
  },
  {
   "cell_type": "markdown",
   "metadata": {},
   "source": [
    "### 数据处理"
   ]
  },
  {
   "cell_type": "code",
   "execution_count": 2,
   "metadata": {
    "execution": {
     "iopub.execute_input": "2022-09-19T05:52:30.484194Z",
     "iopub.status.busy": "2022-09-19T05:52:30.483341Z",
     "iopub.status.idle": "2022-09-19T05:52:36.035202Z",
     "shell.execute_reply": "2022-09-19T05:52:36.033993Z",
     "shell.execute_reply.started": "2022-09-19T05:52:30.484147Z"
    },
    "scrolled": true
   },
   "outputs": [
    {
     "name": "stderr",
     "output_type": "stream",
     "text": [
      "/var/folders/v5/vrnscfp50517qvkjzr6km82m0000gn/T/ipykernel_70851/26559780.py:2: DtypeWarning: Columns (13) have mixed types. Specify dtype option on import or set low_memory=False.\n",
      "  data = pd.read_csv(\"./paddle.csv\",usecols=[\"type\",\"repo_name\",\"created_at\",\"body\"])\n"
     ]
    }
   ],
   "source": [
    "#导入body这个字段来进行情感分析\n",
    "data = pd.read_csv(\"./paddle.csv\",usecols=[\"type\",\"repo_name\",\"created_at\",\"body\"])"
   ]
  },
  {
   "cell_type": "code",
   "execution_count": 3,
   "metadata": {
    "execution": {
     "iopub.execute_input": "2022-09-19T05:52:37.579156Z",
     "iopub.status.busy": "2022-09-19T05:52:37.578469Z",
     "iopub.status.idle": "2022-09-19T05:52:37.688881Z",
     "shell.execute_reply": "2022-09-19T05:52:37.688090Z",
     "shell.execute_reply.started": "2022-09-19T05:52:37.579110Z"
    },
    "scrolled": true,
    "tags": []
   },
   "outputs": [
    {
     "data": {
      "text/html": [
       "<div>\n",
       "<style scoped>\n",
       "    .dataframe tbody tr th:only-of-type {\n",
       "        vertical-align: middle;\n",
       "    }\n",
       "\n",
       "    .dataframe tbody tr th {\n",
       "        vertical-align: top;\n",
       "    }\n",
       "\n",
       "    .dataframe thead th {\n",
       "        text-align: right;\n",
       "    }\n",
       "</style>\n",
       "<table border=\"1\" class=\"dataframe\">\n",
       "  <thead>\n",
       "    <tr style=\"text-align: right;\">\n",
       "      <th></th>\n",
       "      <th>type</th>\n",
       "      <th>repo_name</th>\n",
       "      <th>created_at</th>\n",
       "      <th>body</th>\n",
       "    </tr>\n",
       "  </thead>\n",
       "  <tbody>\n",
       "    <tr>\n",
       "      <th>331</th>\n",
       "      <td>IssueCommentEvent</td>\n",
       "      <td>PaddlePaddle/Anakin</td>\n",
       "      <td>2018-12-03 02:14:51</td>\n",
       "      <td>can you provide the model name?</td>\n",
       "    </tr>\n",
       "    <tr>\n",
       "      <th>332</th>\n",
       "      <td>IssueCommentEvent</td>\n",
       "      <td>PaddlePaddle/Anakin</td>\n",
       "      <td>2018-12-03 02:17:24</td>\n",
       "      <td>是的，请用最新的master分支进行重新转换</td>\n",
       "    </tr>\n",
       "    <tr>\n",
       "      <th>333</th>\n",
       "      <td>IssueCommentEvent</td>\n",
       "      <td>PaddlePaddle/Anakin</td>\n",
       "      <td>2018-12-03 03:54:23</td>\n",
       "      <td>看起来还是0.1.1版本呢</td>\n",
       "    </tr>\n",
       "    <tr>\n",
       "      <th>334</th>\n",
       "      <td>IssueCommentEvent</td>\n",
       "      <td>PaddlePaddle/Anakin</td>\n",
       "      <td>2018-12-03 04:40:47</td>\n",
       "      <td>看到master 分支更新了。。。</td>\n",
       "    </tr>\n",
       "    <tr>\n",
       "      <th>335</th>\n",
       "      <td>IssueCommentEvent</td>\n",
       "      <td>PaddlePaddle/Anakin</td>\n",
       "      <td>2018-12-03 07:48:46</td>\n",
       "      <td>our model likes resnet18. it only has conv and...</td>\n",
       "    </tr>\n",
       "    <tr>\n",
       "      <th>...</th>\n",
       "      <td>...</td>\n",
       "      <td>...</td>\n",
       "      <td>...</td>\n",
       "      <td>...</td>\n",
       "    </tr>\n",
       "    <tr>\n",
       "      <th>801701</th>\n",
       "      <td>PullRequestReviewCommentEvent</td>\n",
       "      <td>PaddlePaddle/paddle-mobile</td>\n",
       "      <td>2018-11-27 07:22:03</td>\n",
       "      <td>这里是为了减少一个set接口，因为winograd需要对filter进行转换，转换后的fil...</td>\n",
       "    </tr>\n",
       "    <tr>\n",
       "      <th>801702</th>\n",
       "      <td>PullRequestReviewCommentEvent</td>\n",
       "      <td>PaddlePaddle/paddle-mobile</td>\n",
       "      <td>2018-11-29 00:44:14</td>\n",
       "      <td>改成fusion_dequant_add_relu?</td>\n",
       "    </tr>\n",
       "    <tr>\n",
       "      <th>801703</th>\n",
       "      <td>PullRequestReviewCommentEvent</td>\n",
       "      <td>PaddlePaddle/paddle-mobile</td>\n",
       "      <td>2018-11-29 00:45:30</td>\n",
       "      <td>relu的输出是Out，不是Output，Output可能会出问题</td>\n",
       "    </tr>\n",
       "    <tr>\n",
       "      <th>801704</th>\n",
       "      <td>PullRequestReviewCommentEvent</td>\n",
       "      <td>PaddlePaddle/paddle-mobile</td>\n",
       "      <td>2018-11-29 00:51:36</td>\n",
       "      <td>最好别在头文件中使用using吧</td>\n",
       "    </tr>\n",
       "    <tr>\n",
       "      <th>801705</th>\n",
       "      <td>PullRequestReviewCommentEvent</td>\n",
       "      <td>PaddlePaddle/paddle-mobile</td>\n",
       "      <td>2018-11-29 00:57:59</td>\n",
       "      <td>这个地方op已经是int8了，单独用int8的register宏注册一下有什么理由么?</td>\n",
       "    </tr>\n",
       "  </tbody>\n",
       "</table>\n",
       "<p>276896 rows × 4 columns</p>\n",
       "</div>"
      ],
      "text/plain": [
       "                                 type                   repo_name  \\\n",
       "331                 IssueCommentEvent         PaddlePaddle/Anakin   \n",
       "332                 IssueCommentEvent         PaddlePaddle/Anakin   \n",
       "333                 IssueCommentEvent         PaddlePaddle/Anakin   \n",
       "334                 IssueCommentEvent         PaddlePaddle/Anakin   \n",
       "335                 IssueCommentEvent         PaddlePaddle/Anakin   \n",
       "...                               ...                         ...   \n",
       "801701  PullRequestReviewCommentEvent  PaddlePaddle/paddle-mobile   \n",
       "801702  PullRequestReviewCommentEvent  PaddlePaddle/paddle-mobile   \n",
       "801703  PullRequestReviewCommentEvent  PaddlePaddle/paddle-mobile   \n",
       "801704  PullRequestReviewCommentEvent  PaddlePaddle/paddle-mobile   \n",
       "801705  PullRequestReviewCommentEvent  PaddlePaddle/paddle-mobile   \n",
       "\n",
       "                 created_at                                               body  \n",
       "331     2018-12-03 02:14:51                    can you provide the model name?  \n",
       "332     2018-12-03 02:17:24                             是的，请用最新的master分支进行重新转换  \n",
       "333     2018-12-03 03:54:23                                      看起来还是0.1.1版本呢  \n",
       "334     2018-12-03 04:40:47                                  看到master 分支更新了。。。  \n",
       "335     2018-12-03 07:48:46  our model likes resnet18. it only has conv and...  \n",
       "...                     ...                                                ...  \n",
       "801701  2018-11-27 07:22:03  这里是为了减少一个set接口，因为winograd需要对filter进行转换，转换后的fil...  \n",
       "801702  2018-11-29 00:44:14                         改成fusion_dequant_add_relu?  \n",
       "801703  2018-11-29 00:45:30                  relu的输出是Out，不是Output，Output可能会出问题  \n",
       "801704  2018-11-29 00:51:36                                   最好别在头文件中使用using吧  \n",
       "801705  2018-11-29 00:57:59        这个地方op已经是int8了，单独用int8的register宏注册一下有什么理由么?  \n",
       "\n",
       "[276896 rows x 4 columns]"
      ]
     },
     "execution_count": 3,
     "metadata": {},
     "output_type": "execute_result"
    }
   ],
   "source": [
    "#只要Issue评论和PR评论\n",
    "data = data[data[\"type\"].isin([\"IssueCommentEvent\",\"PullRequestReviewCommentEvent\"])]\n",
    "data"
   ]
  },
  {
   "cell_type": "code",
   "execution_count": 4,
   "metadata": {
    "execution": {
     "iopub.execute_input": "2022-09-19T05:52:43.067321Z",
     "iopub.status.busy": "2022-09-19T05:52:43.066619Z",
     "iopub.status.idle": "2022-09-19T05:52:43.143875Z",
     "shell.execute_reply": "2022-09-19T05:52:43.142923Z",
     "shell.execute_reply.started": "2022-09-19T05:52:43.067266Z"
    },
    "scrolled": true,
    "tags": []
   },
   "outputs": [],
   "source": [
    "#转化为日期类型\n",
    "data[\"created_at\"] = pd.to_datetime(data[\"created_at\"])"
   ]
  },
  {
   "cell_type": "code",
   "execution_count": 5,
   "metadata": {
    "execution": {
     "iopub.execute_input": "2022-09-19T05:52:45.332201Z",
     "iopub.status.busy": "2022-09-19T05:52:45.331529Z",
     "iopub.status.idle": "2022-09-19T05:52:45.404750Z",
     "shell.execute_reply": "2022-09-19T05:52:45.403851Z",
     "shell.execute_reply.started": "2022-09-19T05:52:45.332153Z"
    },
    "scrolled": true,
    "tags": []
   },
   "outputs": [],
   "source": [
    "#删除内容为空的数据\n",
    "data=data.dropna(axis=0,how='any')\n",
    "data.reset_index(drop=True,inplace=True)"
   ]
  },
  {
   "cell_type": "code",
   "execution_count": 6,
   "metadata": {
    "execution": {
     "iopub.execute_input": "2022-09-19T05:52:47.763828Z",
     "iopub.status.busy": "2022-09-19T05:52:47.763096Z",
     "iopub.status.idle": "2022-09-19T05:52:50.329692Z",
     "shell.execute_reply": "2022-09-19T05:52:50.328587Z",
     "shell.execute_reply.started": "2022-09-19T05:52:47.763772Z"
    },
    "scrolled": true,
    "tags": []
   },
   "outputs": [],
   "source": [
    "#提取年和月\n",
    "data['year'] = data['created_at'].dt.strftime(\"%Y\")\n",
    "data['month'] = data['created_at'].dt.strftime(\"%m\")\n",
    "data.drop(columns=['created_at'],inplace=True)"
   ]
  },
  {
   "cell_type": "code",
   "execution_count": 8,
   "metadata": {
    "execution": {
     "iopub.execute_input": "2022-09-19T05:53:25.591265Z",
     "iopub.status.busy": "2022-09-19T05:53:25.589810Z",
     "iopub.status.idle": "2022-09-19T05:53:27.422697Z",
     "shell.execute_reply": "2022-09-19T05:53:27.421395Z",
     "shell.execute_reply.started": "2022-09-19T05:53:25.591219Z"
    },
    "scrolled": true,
    "tags": []
   },
   "outputs": [],
   "source": [
    "data.to_csv(\"评论.csv\",index=False)"
   ]
  },
  {
   "cell_type": "markdown",
   "metadata": {},
   "source": [
    "### 方法1:利用paddle的senta模型"
   ]
  },
  {
   "cell_type": "code",
   "execution_count": null,
   "metadata": {},
   "outputs": [],
   "source": [
    "#!hub install senta_bilstm"
   ]
  },
  {
   "cell_type": "code",
   "execution_count": 14,
   "metadata": {
    "execution": {
     "iopub.execute_input": "2022-09-19T05:03:46.614706Z",
     "iopub.status.busy": "2022-09-19T05:03:46.614035Z",
     "iopub.status.idle": "2022-09-19T05:03:50.130849Z",
     "shell.execute_reply": "2022-09-19T05:03:50.129460Z",
     "shell.execute_reply.started": "2022-09-19T05:03:46.614664Z"
    },
    "scrolled": true,
    "tags": []
   },
   "outputs": [
    {
     "name": "stderr",
     "output_type": "stream",
     "text": [
      "[2022-09-19 13:03:46,682] [ WARNING] - The _initialize method in HubModule will soon be deprecated, you can use the __init__() to handle the initialization of the object\n"
     ]
    }
   ],
   "source": [
    "#调用senta预训练模型对评论进行情感分析\n",
    "import os\n",
    "import gc\n",
    "import paddlehub as hub\n",
    "os.environ[\"CUDA_VISIBLE_DEVICES\"] = \"0\"\n",
    "senta =hub.Module(name=\"senta_bilstm\")\n",
    "#CUDA_VISIBLE_DEVICES as cuda_device_id\n",
    "\n"
   ]
  },
  {
   "cell_type": "code",
   "execution_count": 16,
   "metadata": {
    "execution": {
     "iopub.execute_input": "2022-09-19T05:04:07.617436Z",
     "iopub.status.busy": "2022-09-19T05:04:07.616104Z",
     "iopub.status.idle": "2022-09-19T05:04:08.146738Z",
     "shell.execute_reply": "2022-09-19T05:04:08.145782Z",
     "shell.execute_reply.started": "2022-09-19T05:04:07.617395Z"
    },
    "scrolled": true,
    "tags": []
   },
   "outputs": [
    {
     "data": {
      "text/plain": [
       "5509"
      ]
     },
     "execution_count": 16,
     "metadata": {},
     "output_type": "execute_result"
    }
   ],
   "source": [
    "# del res\n",
    "# gc.collect()"
   ]
  },
  {
   "cell_type": "code",
   "execution_count": 17,
   "metadata": {
    "execution": {
     "iopub.execute_input": "2022-09-19T05:04:25.309007Z",
     "iopub.status.busy": "2022-09-19T05:04:25.308325Z",
     "iopub.status.idle": "2022-09-19T05:17:23.226553Z",
     "shell.execute_reply": "2022-09-19T05:17:23.225566Z",
     "shell.execute_reply.started": "2022-09-19T05:04:25.308960Z"
    },
    "scrolled": true,
    "tags": []
   },
   "outputs": [
    {
     "name": "stderr",
     "output_type": "stream",
     "text": [
      "[2022-09-19 13:04:25,463] [ WARNING] - The _initialize method in HubModule will soon be deprecated, you can use the __init__() to handle the initialization of the object\n"
     ]
    }
   ],
   "source": [
    "text = data['body'].to_list()\n",
    "res = senta.sentiment_classify(texts=text, \n",
    "                                use_gpu=True,\n",
    "                                batch_size=1000)"
   ]
  },
  {
   "cell_type": "code",
   "execution_count": 18,
   "metadata": {
    "execution": {
     "iopub.execute_input": "2022-09-19T05:23:10.003108Z",
     "iopub.status.busy": "2022-09-19T05:23:10.001738Z",
     "iopub.status.idle": "2022-09-19T05:23:10.007719Z",
     "shell.execute_reply": "2022-09-19T05:23:10.007022Z",
     "shell.execute_reply.started": "2022-09-19T05:23:10.003064Z"
    },
    "scrolled": true,
    "tags": []
   },
   "outputs": [
    {
     "data": {
      "text/plain": [
       "276896"
      ]
     },
     "execution_count": 18,
     "metadata": {},
     "output_type": "execute_result"
    }
   ],
   "source": [
    "len(text)"
   ]
  },
  {
   "cell_type": "code",
   "execution_count": 21,
   "metadata": {
    "execution": {
     "iopub.execute_input": "2022-09-19T05:23:55.758174Z",
     "iopub.status.busy": "2022-09-19T05:23:55.756845Z",
     "iopub.status.idle": "2022-09-19T05:23:55.763629Z",
     "shell.execute_reply": "2022-09-19T05:23:55.762527Z",
     "shell.execute_reply.started": "2022-09-19T05:23:55.758127Z"
    },
    "scrolled": true,
    "tags": []
   },
   "outputs": [
    {
     "data": {
      "text/plain": [
       "{'text': 'can you provide the model name?',\n",
       " 'sentiment_label': 0,\n",
       " 'sentiment_key': 'negative',\n",
       " 'positive_probs': 0.4386,\n",
       " 'negative_probs': 0.5614}"
      ]
     },
     "execution_count": 21,
     "metadata": {},
     "output_type": "execute_result"
    }
   ],
   "source": [
    "res[0]"
   ]
  },
  {
   "cell_type": "code",
   "execution_count": 23,
   "metadata": {
    "execution": {
     "iopub.execute_input": "2022-09-19T05:24:09.352730Z",
     "iopub.status.busy": "2022-09-19T05:24:09.352080Z",
     "iopub.status.idle": "2022-09-19T05:24:09.582317Z",
     "shell.execute_reply": "2022-09-19T05:24:09.581054Z",
     "shell.execute_reply.started": "2022-09-19T05:24:09.352688Z"
    },
    "scrolled": true,
    "tags": []
   },
   "outputs": [],
   "source": [
    "flag = []\n",
    "for i in range(len(res)):\n",
    "    flag.append(res[i][\"sentiment_label\"])\n",
    "flag = pd.DataFrame(flag)\n",
    "flag.rename(columns={0:'flag'})\n",
    "data = pd.concat([data,flag],axis=1)"
   ]
  },
  {
   "cell_type": "code",
   "execution_count": 43,
   "metadata": {
    "execution": {
     "iopub.execute_input": "2022-09-19T05:41:13.924878Z",
     "iopub.status.busy": "2022-09-19T05:41:13.924208Z",
     "iopub.status.idle": "2022-09-19T05:41:13.940557Z",
     "shell.execute_reply": "2022-09-19T05:41:13.939708Z",
     "shell.execute_reply.started": "2022-09-19T05:41:13.924837Z"
    },
    "scrolled": true,
    "tags": []
   },
   "outputs": [
    {
     "data": {
      "text/html": [
       "<div>\n",
       "<style scoped>\n",
       "    .dataframe tbody tr th:only-of-type {\n",
       "        vertical-align: middle;\n",
       "    }\n",
       "\n",
       "    .dataframe tbody tr th {\n",
       "        vertical-align: top;\n",
       "    }\n",
       "\n",
       "    .dataframe thead th {\n",
       "        text-align: right;\n",
       "    }\n",
       "</style>\n",
       "<table border=\"1\" class=\"dataframe\">\n",
       "  <thead>\n",
       "    <tr style=\"text-align: right;\">\n",
       "      <th></th>\n",
       "      <th>type</th>\n",
       "      <th>body</th>\n",
       "      <th>year</th>\n",
       "      <th>month</th>\n",
       "      <th>flag</th>\n",
       "    </tr>\n",
       "  </thead>\n",
       "  <tbody>\n",
       "    <tr>\n",
       "      <th>0</th>\n",
       "      <td>IssueCommentEvent</td>\n",
       "      <td>can you provide the model name?</td>\n",
       "      <td>2018</td>\n",
       "      <td>12</td>\n",
       "      <td>0</td>\n",
       "    </tr>\n",
       "    <tr>\n",
       "      <th>1</th>\n",
       "      <td>IssueCommentEvent</td>\n",
       "      <td>是的，请用最新的master分支进行重新转换</td>\n",
       "      <td>2018</td>\n",
       "      <td>12</td>\n",
       "      <td>1</td>\n",
       "    </tr>\n",
       "    <tr>\n",
       "      <th>2</th>\n",
       "      <td>IssueCommentEvent</td>\n",
       "      <td>看起来还是0.1.1版本呢</td>\n",
       "      <td>2018</td>\n",
       "      <td>12</td>\n",
       "      <td>0</td>\n",
       "    </tr>\n",
       "    <tr>\n",
       "      <th>3</th>\n",
       "      <td>IssueCommentEvent</td>\n",
       "      <td>看到master 分支更新了。。。</td>\n",
       "      <td>2018</td>\n",
       "      <td>12</td>\n",
       "      <td>0</td>\n",
       "    </tr>\n",
       "    <tr>\n",
       "      <th>4</th>\n",
       "      <td>IssueCommentEvent</td>\n",
       "      <td>our model likes resnet18. it only has conv and...</td>\n",
       "      <td>2018</td>\n",
       "      <td>12</td>\n",
       "      <td>1</td>\n",
       "    </tr>\n",
       "    <tr>\n",
       "      <th>...</th>\n",
       "      <td>...</td>\n",
       "      <td>...</td>\n",
       "      <td>...</td>\n",
       "      <td>...</td>\n",
       "      <td>...</td>\n",
       "    </tr>\n",
       "    <tr>\n",
       "      <th>276891</th>\n",
       "      <td>PullRequestReviewCommentEvent</td>\n",
       "      <td>这里是为了减少一个set接口，因为winograd需要对filter进行转换，转换后的fil...</td>\n",
       "      <td>2018</td>\n",
       "      <td>11</td>\n",
       "      <td>1</td>\n",
       "    </tr>\n",
       "    <tr>\n",
       "      <th>276892</th>\n",
       "      <td>PullRequestReviewCommentEvent</td>\n",
       "      <td>改成fusion_dequant_add_relu?</td>\n",
       "      <td>2018</td>\n",
       "      <td>11</td>\n",
       "      <td>0</td>\n",
       "    </tr>\n",
       "    <tr>\n",
       "      <th>276893</th>\n",
       "      <td>PullRequestReviewCommentEvent</td>\n",
       "      <td>relu的输出是Out，不是Output，Output可能会出问题</td>\n",
       "      <td>2018</td>\n",
       "      <td>11</td>\n",
       "      <td>0</td>\n",
       "    </tr>\n",
       "    <tr>\n",
       "      <th>276894</th>\n",
       "      <td>PullRequestReviewCommentEvent</td>\n",
       "      <td>最好别在头文件中使用using吧</td>\n",
       "      <td>2018</td>\n",
       "      <td>11</td>\n",
       "      <td>0</td>\n",
       "    </tr>\n",
       "    <tr>\n",
       "      <th>276895</th>\n",
       "      <td>PullRequestReviewCommentEvent</td>\n",
       "      <td>这个地方op已经是int8了，单独用int8的register宏注册一下有什么理由么?</td>\n",
       "      <td>2018</td>\n",
       "      <td>11</td>\n",
       "      <td>0</td>\n",
       "    </tr>\n",
       "  </tbody>\n",
       "</table>\n",
       "<p>276896 rows × 5 columns</p>\n",
       "</div>"
      ],
      "text/plain": [
       "                                 type  \\\n",
       "0                   IssueCommentEvent   \n",
       "1                   IssueCommentEvent   \n",
       "2                   IssueCommentEvent   \n",
       "3                   IssueCommentEvent   \n",
       "4                   IssueCommentEvent   \n",
       "...                               ...   \n",
       "276891  PullRequestReviewCommentEvent   \n",
       "276892  PullRequestReviewCommentEvent   \n",
       "276893  PullRequestReviewCommentEvent   \n",
       "276894  PullRequestReviewCommentEvent   \n",
       "276895  PullRequestReviewCommentEvent   \n",
       "\n",
       "                                                     body  year month  flag  \n",
       "0                         can you provide the model name?  2018    12     0  \n",
       "1                                  是的，请用最新的master分支进行重新转换  2018    12     1  \n",
       "2                                           看起来还是0.1.1版本呢  2018    12     0  \n",
       "3                                       看到master 分支更新了。。。  2018    12     0  \n",
       "4       our model likes resnet18. it only has conv and...  2018    12     1  \n",
       "...                                                   ...   ...   ...   ...  \n",
       "276891  这里是为了减少一个set接口，因为winograd需要对filter进行转换，转换后的fil...  2018    11     1  \n",
       "276892                         改成fusion_dequant_add_relu?  2018    11     0  \n",
       "276893                  relu的输出是Out，不是Output，Output可能会出问题  2018    11     0  \n",
       "276894                                   最好别在头文件中使用using吧  2018    11     0  \n",
       "276895        这个地方op已经是int8了，单独用int8的register宏注册一下有什么理由么?  2018    11     0  \n",
       "\n",
       "[276896 rows x 5 columns]"
      ]
     },
     "execution_count": 43,
     "metadata": {},
     "output_type": "execute_result"
    }
   ],
   "source": [
    "data"
   ]
  },
  {
   "cell_type": "markdown",
   "metadata": {},
   "source": [
    "### 方法2:利用腾讯云API"
   ]
  },
  {
   "cell_type": "code",
   "execution_count": null,
   "metadata": {},
   "outputs": [],
   "source": [
    "def SentimentAnalysis(text):\n",
    "    try:\n",
    "        # 实例化一个认证对象，入参需要传入腾讯云账户secretId，secretKey,此处还需注意密钥对的保密\n",
    "        # 密钥可前往https://console.cloud.tencent.com/cam/capi网站进行获取\n",
    "        cred = credential.Credential(\"secretId\", \"secretKey\")\n",
    "        # 实例化一个http选项，可选的，没有特殊需求可以跳过\n",
    "        httpProfile = HttpProfile()\n",
    "        httpProfile.endpoint = \"nlp.tencentcloudapi.com\"\n",
    "\n",
    "        # 实例化一个client选项，可选的，没有特殊需求可以跳过\n",
    "        clientProfile = ClientProfile()\n",
    "        clientProfile.httpProfile = httpProfile\n",
    "        # 实例化要请求产品的client对象,clientProfile是可选的\n",
    "        client = nlp_client.NlpClient(cred, \"ap-guangzhou\", clientProfile)\n",
    "\n",
    "        # 实例化一个请求对象,每个接口都会对应一个request对象\n",
    "        req = models.SentimentAnalysisRequest()\n",
    "        params = {\n",
    "            \"Text\": text,\n",
    "            \"Flag\": 4,\n",
    "            \"Mode\": \"3class\"\n",
    "        }\n",
    "        req.from_json_string(json.dumps(params))\n",
    "\n",
    "        # 返回的resp是一个SentimentAnalysisResponse的实例，与请求对象对应\n",
    "        resp = client.SentimentAnalysis(req)\n",
    "        # 输出json格式的字符串回包\n",
    "        print(resp.to_json_string())\n",
    "\n",
    "    except TencentCloudSDKException as err:\n",
    "        print(err)"
   ]
  },
  {
   "cell_type": "code",
   "execution_count": 2,
   "metadata": {},
   "outputs": [],
   "source": [
    "#导入情感分析结果数据\n",
    "data = pd.read_csv(\"情感分析结果.csv\")\n"
   ]
  },
  {
   "cell_type": "code",
   "execution_count": 3,
   "metadata": {},
   "outputs": [],
   "source": [
    "data['flag'] = data['flag'].fillna('neutral')"
   ]
  },
  {
   "cell_type": "code",
   "execution_count": 4,
   "metadata": {},
   "outputs": [
    {
     "name": "stdout",
     "output_type": "stream",
     "text": [
      "<class 'pandas.core.frame.DataFrame'>\n",
      "RangeIndex: 276896 entries, 0 to 276895\n",
      "Data columns (total 6 columns):\n",
      " #   Column     Non-Null Count   Dtype \n",
      "---  ------     --------------   ----- \n",
      " 0   type       276896 non-null  object\n",
      " 1   body       276896 non-null  object\n",
      " 2   year       276896 non-null  int64 \n",
      " 3   month      276896 non-null  int64 \n",
      " 4   flag       276896 non-null  object\n",
      " 5   repo_name  276896 non-null  object\n",
      "dtypes: int64(2), object(4)\n",
      "memory usage: 12.7+ MB\n"
     ]
    }
   ],
   "source": [
    "data.info()"
   ]
  },
  {
   "cell_type": "markdown",
   "metadata": {},
   "source": [
    "### 整体分析"
   ]
  },
  {
   "cell_type": "code",
   "execution_count": 7,
   "metadata": {
    "execution": {
     "iopub.execute_input": "2022-09-19T05:41:34.484111Z",
     "iopub.status.busy": "2022-09-19T05:41:34.483145Z",
     "iopub.status.idle": "2022-09-19T05:41:34.492327Z",
     "shell.execute_reply": "2022-09-19T05:41:34.491654Z",
     "shell.execute_reply.started": "2022-09-19T05:41:34.484075Z"
    },
    "scrolled": true,
    "tags": []
   },
   "outputs": [
    {
     "data": {
      "text/plain": [
       "positive    135680\n",
       "neutral      97058\n",
       "negative     44158\n",
       "Name: flag, dtype: int64"
      ]
     },
     "execution_count": 7,
     "metadata": {},
     "output_type": "execute_result"
    }
   ],
   "source": [
    "#情感分析（整体）\n",
    "data['flag'].value_counts()"
   ]
  },
  {
   "cell_type": "code",
   "execution_count": 9,
   "metadata": {
    "execution": {
     "iopub.execute_input": "2022-09-19T05:42:00.484761Z",
     "iopub.status.busy": "2022-09-19T05:42:00.484031Z",
     "iopub.status.idle": "2022-09-19T05:42:00.549403Z",
     "shell.execute_reply": "2022-09-19T05:42:00.548396Z",
     "shell.execute_reply.started": "2022-09-19T05:42:00.484707Z"
    },
    "scrolled": true,
    "tags": []
   },
   "outputs": [
    {
     "data": {
      "text/plain": [
       "year  flag    \n",
       "2016  positive    0.452935\n",
       "      neutral     0.390181\n",
       "      negative    0.156884\n",
       "2017  positive    0.593854\n",
       "      neutral     0.295982\n",
       "      negative    0.110164\n",
       "2018  positive    0.584862\n",
       "      neutral     0.296794\n",
       "      negative    0.118344\n",
       "2019  positive    0.500334\n",
       "      neutral     0.353029\n",
       "      negative    0.146637\n",
       "2020  positive    0.492758\n",
       "      neutral     0.360715\n",
       "      negative    0.146526\n",
       "2021  positive    0.461087\n",
       "      neutral     0.349823\n",
       "      negative    0.189089\n",
       "2022  positive    0.414371\n",
       "      neutral     0.398734\n",
       "      negative    0.186895\n",
       "Name: flag, dtype: float64"
      ]
     },
     "execution_count": 9,
     "metadata": {},
     "output_type": "execute_result"
    }
   ],
   "source": [
    "#情感分析（年）\n",
    "#data.groupby(data['year'])['flag'].value_counts()\n",
    "data.groupby(data['year'])['flag'].value_counts(normalize=True)"
   ]
  },
  {
   "cell_type": "code",
   "execution_count": 10,
   "metadata": {
    "execution": {
     "iopub.execute_input": "2022-09-19T05:42:22.637974Z",
     "iopub.status.busy": "2022-09-19T05:42:22.636613Z",
     "iopub.status.idle": "2022-09-19T05:42:22.722442Z",
     "shell.execute_reply": "2022-09-19T05:42:22.721435Z",
     "shell.execute_reply.started": "2022-09-19T05:42:22.637926Z"
    },
    "scrolled": true,
    "tags": []
   },
   "outputs": [
    {
     "data": {
      "text/plain": [
       "year  month  flag    \n",
       "2016  11     neutral     0.439601\n",
       "             positive    0.414695\n",
       "             negative    0.145704\n",
       "      12     positive    0.469045\n",
       "             neutral     0.369360\n",
       "             negative    0.161595\n",
       "2017  1      neutral     0.422954\n",
       "             positive    0.409139\n",
       "             negative    0.167906\n",
       "      2      positive    0.512090\n",
       "             neutral     0.333333\n",
       "             negative    0.154577\n",
       "      3      positive    0.527300\n",
       "             neutral     0.314884\n",
       "             negative    0.157816\n",
       "      4      positive    0.534038\n",
       "             neutral     0.334507\n",
       "             negative    0.131455\n",
       "      5      positive    0.512234\n",
       "             neutral     0.385479\n",
       "             negative    0.102286\n",
       "      6      positive    0.626439\n",
       "             neutral     0.288897\n",
       "             negative    0.084664\n",
       "      7      positive    0.621849\n",
       "             neutral     0.275849\n",
       "             negative    0.102302\n",
       "      8      positive    0.642047\n",
       "             neutral     0.259018\n",
       "             negative    0.098935\n",
       "      9      positive    0.657231\n",
       "             neutral     0.248615\n",
       "             negative    0.094154\n",
       "      10     positive    0.691284\n",
       "             neutral     0.221890\n",
       "             negative    0.086826\n",
       "      11     positive    0.586446\n",
       "             neutral     0.300826\n",
       "             negative    0.112727\n",
       "      12     positive    0.595564\n",
       "             neutral     0.288725\n",
       "             negative    0.115712\n",
       "2018  1      positive    0.646474\n",
       "             neutral     0.261572\n",
       "             negative    0.091954\n",
       "      2      positive    0.613752\n",
       "             neutral     0.291186\n",
       "             negative    0.095062\n",
       "      3      positive    0.608163\n",
       "             neutral     0.283203\n",
       "             negative    0.108634\n",
       "      4      positive    0.600526\n",
       "             neutral     0.284275\n",
       "             negative    0.115199\n",
       "      5      positive    0.589808\n",
       "             neutral     0.290727\n",
       "             negative    0.119465\n",
       "      6      positive    0.594049\n",
       "             neutral     0.293776\n",
       "             negative    0.112175\n",
       "      7      positive    0.589333\n",
       "             neutral     0.291733\n",
       "             negative    0.118933\n",
       "      8      neutral     0.454805\n",
       "             positive    0.427117\n",
       "             negative    0.118078\n",
       "      9      positive    0.577717\n",
       "             neutral     0.277854\n",
       "             negative    0.144429\n",
       "      10     positive    0.581381\n",
       "             neutral     0.267868\n",
       "             negative    0.150751\n",
       "      11     positive    0.576512\n",
       "             neutral     0.284698\n",
       "             negative    0.138790\n",
       "      12     positive    0.587077\n",
       "             neutral     0.269056\n",
       "             negative    0.143867\n",
       "2019  1      positive    0.581610\n",
       "             neutral     0.305323\n",
       "             negative    0.113066\n",
       "      2      positive    0.549187\n",
       "             neutral     0.334624\n",
       "             negative    0.116189\n",
       "      3      positive    0.536481\n",
       "             neutral     0.330830\n",
       "             negative    0.132690\n",
       "      4      positive    0.515138\n",
       "             neutral     0.344329\n",
       "             negative    0.140533\n",
       "      5      positive    0.514536\n",
       "             neutral     0.357176\n",
       "             negative    0.128288\n",
       "      6      positive    0.519984\n",
       "             neutral     0.318164\n",
       "             negative    0.161852\n",
       "      7      positive    0.508345\n",
       "             neutral     0.342837\n",
       "             negative    0.148818\n",
       "      8      positive    0.487997\n",
       "             neutral     0.355964\n",
       "             negative    0.156039\n",
       "      9      positive    0.468645\n",
       "             neutral     0.369290\n",
       "             negative    0.162065\n",
       "      10     positive    0.492899\n",
       "             neutral     0.352962\n",
       "             negative    0.154139\n",
       "      11     positive    0.481956\n",
       "             neutral     0.358945\n",
       "             negative    0.159100\n",
       "      12     neutral     0.424628\n",
       "             positive    0.421292\n",
       "             negative    0.154079\n",
       "2020  1      positive    0.490940\n",
       "             neutral     0.372593\n",
       "             negative    0.136467\n",
       "      2      positive    0.462173\n",
       "             neutral     0.399127\n",
       "             negative    0.138700\n",
       "      3      positive    0.479990\n",
       "             neutral     0.383730\n",
       "             negative    0.136280\n",
       "      4      positive    0.493408\n",
       "             neutral     0.350838\n",
       "             negative    0.155754\n",
       "      5      neutral     0.458031\n",
       "             positive    0.424870\n",
       "             negative    0.117098\n",
       "      6      positive    0.465015\n",
       "             neutral     0.375645\n",
       "             negative    0.159340\n",
       "      7      positive    0.496059\n",
       "             neutral     0.364923\n",
       "             negative    0.139018\n",
       "      8      positive    0.516937\n",
       "             neutral     0.338746\n",
       "             negative    0.144317\n",
       "      9      positive    0.507525\n",
       "             neutral     0.331396\n",
       "             negative    0.161079\n",
       "      10     positive    0.513829\n",
       "             neutral     0.331187\n",
       "             negative    0.154983\n",
       "      11     positive    0.492363\n",
       "             neutral     0.359008\n",
       "             negative    0.148629\n",
       "      12     positive    0.521177\n",
       "             neutral     0.328930\n",
       "             negative    0.149892\n",
       "2021  1      positive    0.499826\n",
       "             neutral     0.348121\n",
       "             negative    0.152053\n",
       "      2      positive    0.495668\n",
       "             neutral     0.319363\n",
       "             negative    0.184968\n",
       "      3      positive    0.492433\n",
       "             neutral     0.331097\n",
       "             negative    0.176471\n",
       "      4      positive    0.470912\n",
       "             neutral     0.350021\n",
       "             negative    0.179068\n",
       "      5      positive    0.453451\n",
       "             neutral     0.355875\n",
       "             negative    0.190675\n",
       "      6      positive    0.457885\n",
       "             neutral     0.354140\n",
       "             negative    0.187975\n",
       "      7      positive    0.433842\n",
       "             neutral     0.365832\n",
       "             negative    0.200326\n",
       "      8      positive    0.446338\n",
       "             neutral     0.373232\n",
       "             negative    0.180429\n",
       "      9      positive    0.453946\n",
       "             neutral     0.348410\n",
       "             negative    0.197644\n",
       "      10     positive    0.412322\n",
       "             neutral     0.368991\n",
       "             negative    0.218687\n",
       "      11     positive    0.443264\n",
       "             neutral     0.356407\n",
       "             negative    0.200329\n",
       "      12     positive    0.461799\n",
       "             neutral     0.331293\n",
       "             negative    0.206908\n",
       "2022  1      positive    0.478309\n",
       "             neutral     0.334356\n",
       "             negative    0.187334\n",
       "      2      positive    0.473759\n",
       "             neutral     0.342452\n",
       "             negative    0.183789\n",
       "      3      positive    0.436629\n",
       "             neutral     0.389065\n",
       "             negative    0.174306\n",
       "      4      neutral     0.432462\n",
       "             positive    0.368878\n",
       "             negative    0.198660\n",
       "      5      neutral     0.418354\n",
       "             positive    0.398715\n",
       "             negative    0.182931\n",
       "      6      neutral     0.447282\n",
       "             positive    0.357194\n",
       "             negative    0.195524\n",
       "      7      neutral     0.436133\n",
       "             positive    0.367089\n",
       "             negative    0.196778\n",
       "Name: flag, dtype: float64"
      ]
     },
     "execution_count": 10,
     "metadata": {},
     "output_type": "execute_result"
    }
   ],
   "source": [
    "#情感分析（月）\n",
    "#data.groupby([data['year'],data['month']])['flag'].value_counts()\n",
    "data.groupby([data['year'],data['month']])['flag'].value_counts(normalize=True)"
   ]
  },
  {
   "cell_type": "markdown",
   "metadata": {},
   "source": [
    "### Issue评论分析"
   ]
  },
  {
   "cell_type": "code",
   "execution_count": 12,
   "metadata": {
    "scrolled": true
   },
   "outputs": [],
   "source": [
    "df1 = data[data[\"type\"].isin([\"IssueCommentEvent\"])]"
   ]
  },
  {
   "cell_type": "code",
   "execution_count": 13,
   "metadata": {
    "scrolled": true
   },
   "outputs": [
    {
     "data": {
      "text/plain": [
       "positive    69498\n",
       "neutral     67598\n",
       "negative    28514\n",
       "Name: flag, dtype: int64"
      ]
     },
     "execution_count": 13,
     "metadata": {},
     "output_type": "execute_result"
    }
   ],
   "source": [
    "#情感分析（整体）\n",
    "df1['flag'].value_counts()"
   ]
  },
  {
   "cell_type": "code",
   "execution_count": 14,
   "metadata": {
    "scrolled": true
   },
   "outputs": [
    {
     "data": {
      "text/plain": [
       "year  flag    \n",
       "2016  neutral     0.431737\n",
       "      positive    0.425304\n",
       "      negative    0.142959\n",
       "2017  positive    0.500000\n",
       "      neutral     0.356374\n",
       "      negative    0.143626\n",
       "2018  positive    0.468770\n",
       "      neutral     0.385232\n",
       "      negative    0.145999\n",
       "2019  neutral     0.440715\n",
       "      positive    0.394291\n",
       "      negative    0.164994\n",
       "2020  positive    0.436380\n",
       "      neutral     0.420098\n",
       "      negative    0.143522\n",
       "2021  positive    0.420738\n",
       "      neutral     0.381666\n",
       "      negative    0.197596\n",
       "2022  neutral     0.448523\n",
       "      positive    0.361252\n",
       "      negative    0.190225\n",
       "Name: flag, dtype: float64"
      ]
     },
     "execution_count": 14,
     "metadata": {},
     "output_type": "execute_result"
    }
   ],
   "source": [
    "#情感分析（年）\n",
    "#df1.groupby(df1['year'])['flag'].value_counts()\n",
    "df1.groupby(df1['year'])['flag'].value_counts(normalize=True)"
   ]
  },
  {
   "cell_type": "code",
   "execution_count": 15,
   "metadata": {},
   "outputs": [
    {
     "data": {
      "text/plain": [
       "year  month  flag    \n",
       "2016  11     neutral     0.479545\n",
       "             positive    0.393182\n",
       "             negative    0.127273\n",
       "      12     positive    0.440042\n",
       "             neutral     0.409802\n",
       "             negative    0.150156\n",
       "2017  1      positive    0.476460\n",
       "             neutral     0.365348\n",
       "             negative    0.158192\n",
       "      2      positive    0.453039\n",
       "             neutral     0.377532\n",
       "             negative    0.169429\n",
       "      3      positive    0.496703\n",
       "             neutral     0.329670\n",
       "             negative    0.173626\n",
       "      4      positive    0.532468\n",
       "             neutral     0.347403\n",
       "             negative    0.120130\n",
       "      5      positive    0.474870\n",
       "             neutral     0.415945\n",
       "             negative    0.109185\n",
       "      6      positive    0.457526\n",
       "             neutral     0.411326\n",
       "             negative    0.131148\n",
       "      7      positive    0.513823\n",
       "             neutral     0.329838\n",
       "             negative    0.156339\n",
       "      8      positive    0.529786\n",
       "             neutral     0.340747\n",
       "             negative    0.129468\n",
       "      9      positive    0.504529\n",
       "             neutral     0.353261\n",
       "             negative    0.142210\n",
       "      10     positive    0.544148\n",
       "             neutral     0.309035\n",
       "             negative    0.146817\n",
       "      11     positive    0.484783\n",
       "             neutral     0.374638\n",
       "             negative    0.140580\n",
       "      12     positive    0.495809\n",
       "             neutral     0.355899\n",
       "             negative    0.148291\n",
       "2018  1      positive    0.527797\n",
       "             neutral     0.341798\n",
       "             negative    0.130405\n",
       "      2      positive    0.499572\n",
       "             neutral     0.379606\n",
       "             negative    0.120823\n",
       "      3      positive    0.515341\n",
       "             neutral     0.357386\n",
       "             negative    0.127273\n",
       "      4      positive    0.486920\n",
       "             neutral     0.357806\n",
       "             negative    0.155274\n",
       "      5      positive    0.462331\n",
       "             neutral     0.379064\n",
       "             negative    0.158604\n",
       "      6      positive    0.499257\n",
       "             neutral     0.368499\n",
       "             negative    0.132244\n",
       "      7      positive    0.510185\n",
       "             neutral     0.357407\n",
       "             negative    0.132407\n",
       "      8      neutral     0.601852\n",
       "             positive    0.279762\n",
       "             negative    0.118386\n",
       "      9      positive    0.482192\n",
       "             neutral     0.338356\n",
       "             negative    0.179452\n",
       "      10     positive    0.461358\n",
       "             neutral     0.338407\n",
       "             negative    0.200234\n",
       "      11     positive    0.479960\n",
       "             neutral     0.370741\n",
       "             negative    0.149299\n",
       "      12     positive    0.432616\n",
       "             neutral     0.354473\n",
       "             negative    0.212911\n",
       "2019  1      positive    0.434259\n",
       "             neutral     0.417593\n",
       "             negative    0.148148\n",
       "      2      neutral     0.465116\n",
       "             positive    0.399709\n",
       "             negative    0.135174\n",
       "      3      neutral     0.438642\n",
       "             positive    0.402089\n",
       "             negative    0.159269\n",
       "      4      positive    0.434191\n",
       "             neutral     0.390318\n",
       "             negative    0.175492\n",
       "      5      neutral     0.451054\n",
       "             positive    0.408886\n",
       "             negative    0.140060\n",
       "      6      positive    0.414087\n",
       "             neutral     0.398607\n",
       "             negative    0.187307\n",
       "      7      positive    0.411607\n",
       "             neutral     0.410532\n",
       "             negative    0.177861\n",
       "      8      neutral     0.431188\n",
       "             positive    0.385128\n",
       "             negative    0.183685\n",
       "      9      neutral     0.436261\n",
       "             positive    0.390935\n",
       "             negative    0.172805\n",
       "      10     neutral     0.455849\n",
       "             positive    0.369811\n",
       "             negative    0.174340\n",
       "      11     neutral     0.430566\n",
       "             positive    0.404115\n",
       "             negative    0.165320\n",
       "      12     neutral     0.538306\n",
       "             positive    0.320060\n",
       "             negative    0.141633\n",
       "2020  1      neutral     0.451299\n",
       "             positive    0.423160\n",
       "             negative    0.125541\n",
       "      2      neutral     0.471791\n",
       "             positive    0.385119\n",
       "             negative    0.143091\n",
       "      3      neutral     0.464111\n",
       "             positive    0.384176\n",
       "             negative    0.151713\n",
       "      4      neutral     0.427725\n",
       "             positive    0.415482\n",
       "             negative    0.156793\n",
       "      5      neutral     0.522111\n",
       "             positive    0.369757\n",
       "             negative    0.108131\n",
       "      6      positive    0.433451\n",
       "             neutral     0.415018\n",
       "             negative    0.151532\n",
       "      7      neutral     0.443975\n",
       "             positive    0.430743\n",
       "             negative    0.125282\n",
       "      8      positive    0.460212\n",
       "             neutral     0.406624\n",
       "             negative    0.133165\n",
       "      9      positive    0.461815\n",
       "             neutral     0.370840\n",
       "             negative    0.167345\n",
       "      10     positive    0.472141\n",
       "             neutral     0.380865\n",
       "             negative    0.146994\n",
       "      11     positive    0.429951\n",
       "             neutral     0.416765\n",
       "             negative    0.153285\n",
       "      12     positive    0.490240\n",
       "             neutral     0.362351\n",
       "             negative    0.147409\n",
       "2021  1      positive    0.482359\n",
       "             neutral     0.374819\n",
       "             negative    0.142823\n",
       "      2      positive    0.451307\n",
       "             neutral     0.357516\n",
       "             negative    0.191176\n",
       "      3      positive    0.443431\n",
       "             neutral     0.370033\n",
       "             negative    0.186536\n",
       "      4      positive    0.418615\n",
       "             neutral     0.392237\n",
       "             negative    0.189149\n",
       "      5      positive    0.401014\n",
       "             neutral     0.392948\n",
       "             negative    0.206038\n",
       "      6      positive    0.411838\n",
       "             neutral     0.388704\n",
       "             negative    0.199458\n",
       "      7      neutral     0.401044\n",
       "             positive    0.391208\n",
       "             negative    0.207748\n",
       "      8      positive    0.408379\n",
       "             neutral     0.407058\n",
       "             negative    0.184563\n",
       "      9      positive    0.405780\n",
       "             neutral     0.380293\n",
       "             negative    0.213927\n",
       "      10     positive    0.393707\n",
       "             neutral     0.378358\n",
       "             negative    0.227936\n",
       "      11     positive    0.418373\n",
       "             neutral     0.376203\n",
       "             negative    0.205424\n",
       "      12     positive    0.424373\n",
       "             neutral     0.353155\n",
       "             negative    0.222472\n",
       "2022  1      positive    0.452067\n",
       "             neutral     0.357338\n",
       "             negative    0.190595\n",
       "      2      positive    0.464850\n",
       "             neutral     0.354599\n",
       "             negative    0.180551\n",
       "      3      neutral     0.442677\n",
       "             positive    0.378728\n",
       "             negative    0.178595\n",
       "      4      neutral     0.498530\n",
       "             positive    0.301862\n",
       "             negative    0.199608\n",
       "      5      neutral     0.472788\n",
       "             positive    0.338134\n",
       "             negative    0.189078\n",
       "      6      neutral     0.504106\n",
       "             positive    0.294412\n",
       "             negative    0.201482\n",
       "      7      neutral     0.492537\n",
       "             positive    0.330017\n",
       "             negative    0.177446\n",
       "Name: flag, dtype: float64"
      ]
     },
     "execution_count": 15,
     "metadata": {},
     "output_type": "execute_result"
    }
   ],
   "source": [
    "#情感分析（月）\n",
    "#df1.groupby([df1['year'],df1['month']])['flag'].value_counts()\n",
    "df1.groupby([df1['year'],df1['month']])['flag'].value_counts(normalize=True)"
   ]
  },
  {
   "cell_type": "markdown",
   "metadata": {},
   "source": [
    "### PR评论分析"
   ]
  },
  {
   "cell_type": "code",
   "execution_count": 16,
   "metadata": {
    "scrolled": true
   },
   "outputs": [],
   "source": [
    "df2 = data[data[\"type\"].isin([\"PullRequestReviewCommentEvent\"])]"
   ]
  },
  {
   "cell_type": "code",
   "execution_count": 17,
   "metadata": {
    "scrolled": true
   },
   "outputs": [
    {
     "data": {
      "text/plain": [
       "positive    66182\n",
       "neutral     29460\n",
       "negative    15644\n",
       "Name: flag, dtype: int64"
      ]
     },
     "execution_count": 17,
     "metadata": {},
     "output_type": "execute_result"
    }
   ],
   "source": [
    "#情感分析（整体）\n",
    "df2['flag'].value_counts()"
   ]
  },
  {
   "cell_type": "code",
   "execution_count": 20,
   "metadata": {
    "scrolled": true
   },
   "outputs": [
    {
     "data": {
      "text/plain": [
       "year  flag    \n",
       "2016  positive    0.482443\n",
       "      neutral     0.345802\n",
       "      negative    0.171756\n",
       "2017  positive    0.649175\n",
       "      neutral     0.260384\n",
       "      negative    0.090440\n",
       "2018  positive    0.706198\n",
       "      neutral     0.204362\n",
       "      negative    0.089440\n",
       "2019  positive    0.630698\n",
       "      neutral     0.245232\n",
       "      negative    0.124069\n",
       "2020  positive    0.596067\n",
       "      neutral     0.251901\n",
       "      negative    0.152032\n",
       "2021  positive    0.541338\n",
       "      neutral     0.286492\n",
       "      negative    0.172170\n",
       "2022  positive    0.510546\n",
       "      neutral     0.308590\n",
       "      negative    0.180865\n",
       "Name: flag, dtype: float64"
      ]
     },
     "execution_count": 20,
     "metadata": {},
     "output_type": "execute_result"
    }
   ],
   "source": [
    "#情感分析（年）\n",
    "df2.groupby(df2['year'])['flag'].value_counts(normalize=True)"
   ]
  },
  {
   "cell_type": "code",
   "execution_count": 21,
   "metadata": {
    "scrolled": true
   },
   "outputs": [
    {
     "data": {
      "text/plain": [
       "year  month  flag    \n",
       "2016  11     positive    0.440771\n",
       "             neutral     0.391185\n",
       "             negative    0.168044\n",
       "      12     positive    0.498416\n",
       "             neutral     0.328405\n",
       "             negative    0.173178\n",
       "2017  1      neutral     0.445596\n",
       "             positive    0.382679\n",
       "             negative    0.171725\n",
       "      2      positive    0.564228\n",
       "             neutral     0.294309\n",
       "             negative    0.141463\n",
       "      3      positive    0.543084\n",
       "             neutral     0.307256\n",
       "             negative    0.149660\n",
       "      4      positive    0.534926\n",
       "             neutral     0.327206\n",
       "             negative    0.137868\n",
       "      5      positive    0.523486\n",
       "             neutral     0.376305\n",
       "             negative    0.100209\n",
       "      6      positive    0.682493\n",
       "             neutral     0.248269\n",
       "             negative    0.069238\n",
       "      7      positive    0.688981\n",
       "             neutral     0.242299\n",
       "             negative    0.068720\n",
       "      8      positive    0.727603\n",
       "             neutral     0.196731\n",
       "             negative    0.075666\n",
       "      9      positive    0.735788\n",
       "             neutral     0.194781\n",
       "             negative    0.069432\n",
       "      10     positive    0.761811\n",
       "             neutral     0.180118\n",
       "             negative    0.058071\n",
       "      11     positive    0.671733\n",
       "             neutral     0.238906\n",
       "             negative    0.089362\n",
       "      12     positive    0.729636\n",
       "             neutral     0.198440\n",
       "             negative    0.071924\n",
       "2018  1      positive    0.744608\n",
       "             neutral     0.195233\n",
       "             negative    0.060159\n",
       "      2      positive    0.747000\n",
       "             neutral     0.188000\n",
       "             negative    0.065000\n",
       "      3      positive    0.722807\n",
       "             neutral     0.191579\n",
       "             negative    0.085614\n",
       "      4      positive    0.723133\n",
       "             neutral     0.204918\n",
       "             negative    0.071949\n",
       "      5      positive    0.731686\n",
       "             neutral     0.192410\n",
       "             negative    0.075905\n",
       "      6      positive    0.674905\n",
       "             neutral     0.230038\n",
       "             negative    0.095057\n",
       "      7      positive    0.696855\n",
       "             neutral     0.202516\n",
       "             negative    0.100629\n",
       "      8      positive    0.663136\n",
       "             neutral     0.219280\n",
       "             negative    0.117585\n",
       "      9      positive    0.674033\n",
       "             neutral     0.216851\n",
       "             negative    0.109116\n",
       "      10     positive    0.707768\n",
       "             neutral     0.193588\n",
       "             negative    0.098644\n",
       "      11     positive    0.653600\n",
       "             neutral     0.216000\n",
       "             negative    0.130400\n",
       "      12     positive    0.711293\n",
       "             neutral     0.200364\n",
       "             negative    0.088342\n",
       "2019  1      positive    0.715004\n",
       "             neutral     0.203688\n",
       "             negative    0.081308\n",
       "      2      positive    0.719735\n",
       "             neutral     0.185738\n",
       "             negative    0.094527\n",
       "      3      positive    0.699367\n",
       "             neutral     0.200158\n",
       "             negative    0.100475\n",
       "      4      positive    0.635241\n",
       "             neutral     0.276094\n",
       "             negative    0.088664\n",
       "      5      positive    0.681764\n",
       "             neutral     0.208582\n",
       "             negative    0.109654\n",
       "      6      positive    0.630769\n",
       "             neutral     0.234008\n",
       "             negative    0.135223\n",
       "      7      positive    0.685714\n",
       "             neutral     0.218719\n",
       "             negative    0.095567\n",
       "      8      positive    0.702546\n",
       "             neutral     0.199074\n",
       "             negative    0.098380\n",
       "      9      positive    0.533649\n",
       "             neutral     0.313270\n",
       "             negative    0.153081\n",
       "      10     positive    0.597311\n",
       "             neutral     0.265685\n",
       "             negative    0.137004\n",
       "      11     positive    0.569079\n",
       "             neutral     0.278783\n",
       "             negative    0.152138\n",
       "      12     positive    0.574257\n",
       "             neutral     0.252856\n",
       "             negative    0.172887\n",
       "2020  1      positive    0.565321\n",
       "             neutral     0.286223\n",
       "             negative    0.148456\n",
       "      2      positive    0.574493\n",
       "             neutral     0.293206\n",
       "             negative    0.132300\n",
       "      3      positive    0.651349\n",
       "             neutral     0.239971\n",
       "             negative    0.108680\n",
       "      4      positive    0.594956\n",
       "             neutral     0.250643\n",
       "             negative    0.154400\n",
       "      5      positive    0.571212\n",
       "             neutral     0.287879\n",
       "             negative    0.140909\n",
       "      6      positive    0.565744\n",
       "             neutral     0.250000\n",
       "             negative    0.184256\n",
       "      7      positive    0.610345\n",
       "             neutral     0.226601\n",
       "             negative    0.163054\n",
       "      8      positive    0.605150\n",
       "             neutral     0.233190\n",
       "             negative    0.161660\n",
       "      9      positive    0.582873\n",
       "             neutral     0.266377\n",
       "             negative    0.150750\n",
       "      10     positive    0.591405\n",
       "             neutral     0.238745\n",
       "             negative    0.169850\n",
       "      11     positive    0.636265\n",
       "             neutral     0.225841\n",
       "             negative    0.137894\n",
       "      12     positive    0.576156\n",
       "             neutral     0.269537\n",
       "             negative    0.154306\n",
       "2021  1      positive    0.544720\n",
       "             neutral     0.279503\n",
       "             negative    0.175776\n",
       "      2      positive    0.607762\n",
       "             neutral     0.222956\n",
       "             negative    0.169282\n",
       "      3      positive    0.586494\n",
       "             neutral     0.256357\n",
       "             negative    0.157149\n",
       "      4      positive    0.564417\n",
       "             neutral     0.274540\n",
       "             negative    0.161043\n",
       "      5      positive    0.559869\n",
       "             neutral     0.280636\n",
       "             negative    0.159495\n",
       "      6      positive    0.559650\n",
       "             neutral     0.277752\n",
       "             negative    0.162598\n",
       "      7      positive    0.554046\n",
       "             neutral     0.266553\n",
       "             negative    0.179400\n",
       "      8      positive    0.523083\n",
       "             neutral     0.304845\n",
       "             negative    0.172072\n",
       "      9      positive    0.522384\n",
       "             neutral     0.303108\n",
       "             negative    0.174508\n",
       "      10     positive    0.551724\n",
       "             neutral     0.298851\n",
       "             negative    0.149425\n",
       "      11     positive    0.484919\n",
       "             neutral     0.323280\n",
       "             negative    0.191801\n",
       "      12     positive    0.526159\n",
       "             neutral     0.293698\n",
       "             negative    0.180143\n",
       "2022  1      positive    0.520058\n",
       "             neutral     0.297795\n",
       "             negative    0.182147\n",
       "      2      positive    0.490621\n",
       "             neutral     0.319461\n",
       "             negative    0.189918\n",
       "      3      positive    0.516587\n",
       "             neutral     0.315031\n",
       "             negative    0.168383\n",
       "      4      positive    0.506367\n",
       "             neutral     0.296917\n",
       "             negative    0.196716\n",
       "      5      positive    0.510338\n",
       "             neutral     0.318057\n",
       "             negative    0.171606\n",
       "      6      positive    0.515672\n",
       "             neutral     0.303842\n",
       "             negative    0.180485\n",
       "      7      positive    0.451128\n",
       "             neutral     0.308271\n",
       "             negative    0.240602\n",
       "Name: flag, dtype: float64"
      ]
     },
     "execution_count": 21,
     "metadata": {},
     "output_type": "execute_result"
    }
   ],
   "source": [
    "#情感分析（月）\n",
    "df2.groupby([df2['year'],df2['month']])['flag'].value_counts(normalize=True)"
   ]
  },
  {
   "cell_type": "markdown",
   "metadata": {},
   "source": [
    "### 仓库分析"
   ]
  },
  {
   "cell_type": "code",
   "execution_count": 5,
   "metadata": {},
   "outputs": [
    {
     "name": "stdout",
     "output_type": "stream",
     "text": [
      "<class 'pandas.core.frame.DataFrame'>\n",
      "RangeIndex: 276896 entries, 0 to 276895\n",
      "Data columns (total 6 columns):\n",
      " #   Column     Non-Null Count   Dtype \n",
      "---  ------     --------------   ----- \n",
      " 0   type       276896 non-null  object\n",
      " 1   body       276896 non-null  object\n",
      " 2   year       276896 non-null  int64 \n",
      " 3   month      276896 non-null  int64 \n",
      " 4   flag       276896 non-null  object\n",
      " 5   repo_name  276896 non-null  object\n",
      "dtypes: int64(2), object(4)\n",
      "memory usage: 12.7+ MB\n"
     ]
    }
   ],
   "source": [
    "data.info()"
   ]
  },
  {
   "cell_type": "code",
   "execution_count": 6,
   "metadata": {},
   "outputs": [],
   "source": [
    "data = data[data['repo_name'].isin([\"PaddlePaddle/Paddle\",\"PaddlePaddle/PaddleOCR\",\"PaddlePaddle/PaddleNLP\",\"PaddlePaddle/PaddleDetection\",\"PaddlePaddle/PaddleSpeech\"])]"
   ]
  },
  {
   "cell_type": "code",
   "execution_count": 11,
   "metadata": {},
   "outputs": [
    {
     "name": "stdout",
     "output_type": "stream",
     "text": [
      "<class 'pandas.core.frame.DataFrame'>\n",
      "Int64Index: 183356 entries, 64 to 276792\n",
      "Data columns (total 6 columns):\n",
      " #   Column     Non-Null Count   Dtype \n",
      "---  ------     --------------   ----- \n",
      " 0   type       183356 non-null  object\n",
      " 1   body       183356 non-null  object\n",
      " 2   year       183356 non-null  int64 \n",
      " 3   month      183356 non-null  int64 \n",
      " 4   flag       183356 non-null  object\n",
      " 5   repo_name  183356 non-null  object\n",
      "dtypes: int64(2), object(4)\n",
      "memory usage: 9.8+ MB\n"
     ]
    }
   ],
   "source": [
    "data.info()"
   ]
  }
 ],
 "metadata": {
  "kernelspec": {
   "display_name": "Python 3.9.13 ('paddle_hackathon')",
   "language": "python",
   "name": "python3"
  },
  "language_info": {
   "codemirror_mode": {
    "name": "ipython",
    "version": 3
   },
   "file_extension": ".py",
   "mimetype": "text/x-python",
   "name": "python",
   "nbconvert_exporter": "python",
   "pygments_lexer": "ipython3",
   "version": "3.10.4"
  },
  "vscode": {
   "interpreter": {
    "hash": "e3aff7d50a9c2d8c47183c65471a83ae253694fcc4532e1058164e9d75ab6ee6"
   }
  }
 },
 "nbformat": 4,
 "nbformat_minor": 4
}
