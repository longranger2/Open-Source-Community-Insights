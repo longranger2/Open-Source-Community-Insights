{
 "cells": [
  {
   "cell_type": "code",
   "execution_count": 1,
   "metadata": {},
   "outputs": [],
   "source": [
    "import numpy as np\n",
    "import pandas as pd\n",
    "import matplotlib.pyplot as plt\n",
    "import seaborn as sns\n",
    "import jieba.analyse\n",
    "import gc\n",
    "import datetime\n",
    "from collections import Counter"
   ]
  },
  {
   "cell_type": "markdown",
   "metadata": {},
   "source": [
    "### 开发者技能标签"
   ]
  },
  {
   "cell_type": "markdown",
   "metadata": {},
   "source": [
    "参考链接：  \n",
    "\n",
    "1.https://www.jb51.net/article/243626.htm\n",
    "\n",
    "2.https://aistudio.baidu.com/aistudio/projectdetail/2210377?channelType=0&channel=0\n",
    "\n",
    "3.https://blog.csdn.net/qq_50791662/article/details/123709658?ops_request_misc=%257B%2522request%255Fid%2522%253A%2522166265318216800182111307%2522%252C%2522scm%2522%253A%252220140713.130102334.pc%255Fall.%2522%257D&request_id=166265318216800182111307&biz_id=0&utm_medium=distribute.pc_search_result.none-task-blog-2~all~first_rank_ecpm_v1~pc_rank_34-1-123709658-null-null.142^v47^pc_rank_34_default_2,201^v3^control_1&utm_term=python%E5%9F%BA%E4%BA%8E%E8%87%AA%E5%BB%BA%E8%AF%AD%E6%96%99%E5%BA%93%E8%BF%9B%E8%A1%8C%E5%85%B3%E9%94%AE%E8%AF%8D%E6%8F%90%E5%8F%96&spm=1018.2226.3001.4187"
   ]
  },
  {
   "cell_type": "code",
   "execution_count": 2,
   "metadata": {},
   "outputs": [
    {
     "name": "stderr",
     "output_type": "stream",
     "text": [
      "/var/folders/v5/vrnscfp50517qvkjzr6km82m0000gn/T/ipykernel_7287/2149412570.py:2: DtypeWarning: Columns (13) have mixed types. Specify dtype option on import or set low_memory=False.\n",
      "  data = pd.read_csv(\"paddle.csv\",usecols=[\"body\"])\n"
     ]
    }
   ],
   "source": [
    "#导入body这个字段来进行技能提取\n",
    "data = pd.read_csv(\"paddle.csv\",usecols=[\"body\"])"
   ]
  },
  {
   "cell_type": "code",
   "execution_count": 3,
   "metadata": {},
   "outputs": [],
   "source": [
    "data=data.dropna(how=\"all\")\n",
    "data.reset_index(drop=True,inplace=True)"
   ]
  },
  {
   "cell_type": "code",
   "execution_count": 4,
   "metadata": {},
   "outputs": [
    {
     "data": {
      "text/html": [
       "<div>\n",
       "<style scoped>\n",
       "    .dataframe tbody tr th:only-of-type {\n",
       "        vertical-align: middle;\n",
       "    }\n",
       "\n",
       "    .dataframe tbody tr th {\n",
       "        vertical-align: top;\n",
       "    }\n",
       "\n",
       "    .dataframe thead th {\n",
       "        text-align: right;\n",
       "    }\n",
       "</style>\n",
       "<table border=\"1\" class=\"dataframe\">\n",
       "  <thead>\n",
       "    <tr style=\"text-align: right;\">\n",
       "      <th></th>\n",
       "      <th>body</th>\n",
       "    </tr>\n",
       "  </thead>\n",
       "  <tbody>\n",
       "    <tr>\n",
       "      <th>0</th>\n",
       "      <td>这里为什么要删呢？api不更新了么？\\r\\n</td>\n",
       "    </tr>\n",
       "    <tr>\n",
       "      <th>1</th>\n",
       "      <td>```\\r\\n$ git submodule update --init --recursi...</td>\n",
       "    </tr>\n",
       "    <tr>\n",
       "      <th>2</th>\n",
       "      <td>简单的问题复杂化了，13个因素如何检验与房价是具有线性相关性的？</td>\n",
       "    </tr>\n",
       "    <tr>\n",
       "      <th>3</th>\n",
       "      <td>this is better to be `startup_program`</td>\n",
       "    </tr>\n",
       "    <tr>\n",
       "      <th>4</th>\n",
       "      <td>this func result seems not be used?</td>\n",
       "    </tr>\n",
       "    <tr>\n",
       "      <th>...</th>\n",
       "      <td>...</td>\n",
       "    </tr>\n",
       "    <tr>\n",
       "      <th>494681</th>\n",
       "      <td>这里是为了减少一个set接口，因为winograd需要对filter进行转换，转换后的fil...</td>\n",
       "    </tr>\n",
       "    <tr>\n",
       "      <th>494682</th>\n",
       "      <td>改成fusion_dequant_add_relu?</td>\n",
       "    </tr>\n",
       "    <tr>\n",
       "      <th>494683</th>\n",
       "      <td>relu的输出是Out，不是Output，Output可能会出问题</td>\n",
       "    </tr>\n",
       "    <tr>\n",
       "      <th>494684</th>\n",
       "      <td>最好别在头文件中使用using吧</td>\n",
       "    </tr>\n",
       "    <tr>\n",
       "      <th>494685</th>\n",
       "      <td>这个地方op已经是int8了，单独用int8的register宏注册一下有什么理由么?</td>\n",
       "    </tr>\n",
       "  </tbody>\n",
       "</table>\n",
       "<p>494686 rows × 1 columns</p>\n",
       "</div>"
      ],
      "text/plain": [
       "                                                     body\n",
       "0                                  这里为什么要删呢？api不更新了么？\\r\\n\n",
       "1       ```\\r\\n$ git submodule update --init --recursi...\n",
       "2                        简单的问题复杂化了，13个因素如何检验与房价是具有线性相关性的？\n",
       "3                  this is better to be `startup_program`\n",
       "4                     this func result seems not be used?\n",
       "...                                                   ...\n",
       "494681  这里是为了减少一个set接口，因为winograd需要对filter进行转换，转换后的fil...\n",
       "494682                         改成fusion_dequant_add_relu?\n",
       "494683                  relu的输出是Out，不是Output，Output可能会出问题\n",
       "494684                                   最好别在头文件中使用using吧\n",
       "494685        这个地方op已经是int8了，单独用int8的register宏注册一下有什么理由么?\n",
       "\n",
       "[494686 rows x 1 columns]"
      ]
     },
     "execution_count": 4,
     "metadata": {},
     "output_type": "execute_result"
    }
   ],
   "source": [
    "data"
   ]
  },
  {
   "cell_type": "code",
   "execution_count": 5,
   "metadata": {},
   "outputs": [
    {
     "name": "stderr",
     "output_type": "stream",
     "text": [
      "Building prefix dict from the default dictionary ...\n",
      "Loading model from cache /var/folders/v5/vrnscfp50517qvkjzr6km82m0000gn/T/jieba.cache\n",
      "Loading model cost 0.284 seconds.\n",
      "Prefix dict has been built successfully.\n"
     ]
    },
    {
     "data": {
      "text/plain": [
       "[('喜欢', 5.70258840302)]"
      ]
     },
     "execution_count": 5,
     "metadata": {},
     "output_type": "execute_result"
    }
   ],
   "source": [
    "#这里利用TFIDF算法来进行关键词提取\n",
    "t = jieba.analyse.TFIDF()\n",
    "t.extract_tags(\"我喜欢你，你喜欢我吗\",topK=5,withWeight=True)"
   ]
  },
  {
   "cell_type": "code",
   "execution_count": null,
   "metadata": {},
   "outputs": [],
   "source": [
    "#对data['body']每条日志数据进行关键词提取，然后存进res数组种\n",
    "res=[]\n",
    "t = jieba.analyse.TFIDF()\n",
    "for i in range(data.shape[0]):\n",
    "    if i % 10000 == 0:\n",
    "        print(i)\n",
    "    try:\n",
    "        res.append(t.extract_tags(data[\"body\"].iloc[i].lower(),topK=1,withWeight=True)[0][0])\n",
    "    except IndexError:\n",
    "        print(data[\"body\"].iloc[i])"
   ]
  },
  {
   "cell_type": "code",
   "execution_count": 7,
   "metadata": {},
   "outputs": [],
   "source": [
    "#对提取出来的关键词进行统计\n",
    "temp = Counter(res)\n",
    "skill = sorted(temp.items(), key = lambda x:x[1],reverse=True)"
   ]
  },
  {
   "cell_type": "code",
   "execution_count": 8,
   "metadata": {},
   "outputs": [],
   "source": [
    "#过滤掉数量少于50的关键词\n",
    "skill=[s for s in skill if s[1]>50]"
   ]
  },
  {
   "cell_type": "code",
   "execution_count": null,
   "metadata": {},
   "outputs": [],
   "source": [
    "skill"
   ]
  },
  {
   "cell_type": "code",
   "execution_count": 10,
   "metadata": {},
   "outputs": [],
   "source": [
    "#最后提取的开发者技能如下\n",
    "skills=[\n",
    " ('paddle', 12421),\n",
    " ('paddlepaddle', 2009),\n",
    " ('gpu', 1568),\n",
    " ('python', 1454),\n",
    " ('tensor', 1212),\n",
    " ('cpu', 923),\n",
    " ('cuda', 895),\n",
    " ('aistudio', 741),\n",
    " ('docker', 710),\n",
    " ('paddlehub', 708),\n",
    " ('paddledetection', 617),\n",
    " ('inference', 613),\n",
    " ('paddlex', 517),\n",
    " ('infer', 509),\n",
    " ('cudnn', 508),\n",
    " ('paddlenlp', 501),\n",
    " ('github', 486),\n",
    " ('paddleocr', 486),\n",
    " ('serving', 481),\n",
    " ('windows', 454),\n",
    " ('onnx', 435),\n",
    " ('c++', 428),\n",
    " ('tensorrt', 334),\n",
    " ('ocr', 327),\n",
    " ('x2paddle', 294),\n",
    " ('paddleseg', 293),\n",
    " ('optimizer', 248),\n",
    " ('yolov3', 235),\n",
    " ('opencl', 203),\n",
    " ('ppyolo', 199),\n",
    " ('paddleclas', 192),\n",
    " ('cpp', 187),\n",
    " ('pytorch', 186),\n",
    " ('linux', 180),\n",
    " ('conv2d', 177),\n",
    " ('tensorflow', 161),\n",
    " ('paddleslim', 160),\n",
    " ('paddle2onnx', 157),\n",
    " ('推理', 157),\n",
    " ('bert', 156),\n",
    " ('lstm', 156),\n",
    " ('gcc', 151),\n",
    " ('量化', 150),\n",
    " ('dataloader', 148),\n",
    " ('torch', 147),\n",
    " ('飞桨', 144),\n",
    " ('rnn', 141),\n",
    " ('nvidia', 137),\n",
    " ('lodtensor', 116),\n",
    " ('paddlespeech', 116),\n",
    " ('paddlelite', 115),\n",
    " ('python3', 114),\n",
    " ('ppdet', 106),\n",
    " ('quant', 106),\n",
    " ('剪枝', 103),\n",
    " ('conda', 103),\n",
    " ('transformer', 95),\n",
    " ('rcnn', 92),\n",
    " ('openvino', 91),\n",
    " ('optimize', 81),\n",
    " ('paddlecloud', 79),\n",
    " ('paddle2.0', 76),\n",
    " ('transforms', 73),\n",
    " ('tokenizer', 71),\n",
    " ('cv2', 69),\n",
    " ('java', 68),\n",
    " ('ppocr', 68),\n",
    " ('detection', 67),\n",
    " ('openblas', 67),\n",
    " ('transform', 66),\n",
    " ('python3.7', 65),\n",
    " ('nnadapter', 65),\n",
    " ('distributed', 63),\n",
    " ('yolox', 63),\n",
    " ('裁剪', 61),\n",
    " ('shell', 59),\n",
    " ('cv', 57),\n",
    " ('可视化', 53),\n",
    " ('分布式', 53),\n",
    " ('paddlerec', 53),\n",
    " ('eiseg', 53),\n",
    " ('yolov4', 52),\n",
    " ('cloud', 51),\n",
    " ]"
   ]
  },
  {
   "cell_type": "code",
   "execution_count": 11,
   "metadata": {},
   "outputs": [],
   "source": [
    "#将skills导出到words.txt中\n",
    "words=open('words.txt',mode='w')"
   ]
  },
  {
   "cell_type": "code",
   "execution_count": 12,
   "metadata": {},
   "outputs": [],
   "source": [
    "for i in range(len(skills)):\n",
    "    for j in range(skills[i][1]):\n",
    "        words.write(skills[i][0])\n",
    "        words.write(\"\\n\")\n",
    "words.close()\n",
    "     "
   ]
  },
  {
   "cell_type": "markdown",
   "metadata": {},
   "source": [
    "生成词云,参考链接：https://aistudio.baidu.com/aistudio/projectdetail/1071643?channelType=0&channel=0"
   ]
  },
  {
   "cell_type": "code",
   "execution_count": 13,
   "metadata": {},
   "outputs": [],
   "source": [
    "#wordcloud模块用于生成词云图\n",
    "from wordcloud import WordCloud,ImageColorGenerator\n",
    "#matplotlib是一个Python的第三方库，里面的pyplot可以用来作图\n",
    "import jieba\n",
    "import matplotlib.pyplot as plt\n",
    "#scipy用于处理图像文件，imread()返回ndarray对象，即 numpy 下的多维数组对象\n",
    "#from scipy import \n",
    "from imageio import imread"
   ]
  },
  {
   "cell_type": "code",
   "execution_count": 14,
   "metadata": {},
   "outputs": [
    {
     "name": "stderr",
     "output_type": "stream",
     "text": [
      "/var/folders/v5/vrnscfp50517qvkjzr6km82m0000gn/T/ipykernel_7287/185436128.py:5: DeprecationWarning: Starting with ImageIO v3 the behavior of this function will switch to that of iio.v3.imread. To keep the current behavior (and make this warning disappear) use `import imageio.v2 as imageio` or call `imageio.v2.imread` directly.\n",
      "  bg_pic = imread('tree.png')\n"
     ]
    },
    {
     "data": {
      "image/png": "[encoded data removed]",
      "text/plain": [
       "<Figure size 640x480 with 1 Axes>"
      ]
     },
     "metadata": {},
     "output_type": "display_data"
    },
    {
     "data": {
      "text/plain": [
       "<wordcloud.wordcloud.WordCloud at 0x11d081250>"
      ]
     },
     "execution_count": 14,
     "metadata": {},
     "output_type": "execute_result"
    }
   ],
   "source": [
    "#读取一个txt文件\n",
    "text = open('words.txt','r',encoding=\"utf-8\").read()\n",
    "\n",
    "#读入背景图片\n",
    "bg_pic = imread('tree.png')\n",
    "#生成词云图片\n",
    "wordcloud = WordCloud(mask=bg_pic,background_color='white',scale=1.5).generate(text)\n",
    "'''参数说明：\n",
    "mask:设置背景图片   background_color:设置背景颜色\n",
    "scale:按照比例进行放大画布，此处指长和宽都是原来画布的1.5倍\n",
    "generate(text)：根据文本生成词云 '''\n",
    "\n",
    "#产生背景图片，基于彩色图像的颜色生成器\n",
    "image_colors = ImageColorGenerator(bg_pic)\n",
    "#绘制词云图片\n",
    "plt.imshow(wordcloud)\n",
    "#显示图片时不显示坐标尺寸\n",
    "plt.axis('off')\n",
    "#显示词云图片\n",
    "plt.show()\n",
    "#保存图片\n",
    "wordcloud.to_file('tree词云.png')"
   ]
  },
  {
   "cell_type": "code",
   "execution_count": 15,
   "metadata": {},
   "outputs": [
    {
     "data": {
      "text/plain": [
       "2053"
      ]
     },
     "execution_count": 15,
     "metadata": {},
     "output_type": "execute_result"
    }
   ],
   "source": [
    "#清楚内存和变量\n",
    "del data\n",
    "gc.collect()"
   ]
  },
  {
   "cell_type": "markdown",
   "metadata": {},
   "source": [
    "### 开发者所在的组织分析"
   ]
  },
  {
   "cell_type": "code",
   "execution_count": 16,
   "metadata": {},
   "outputs": [],
   "source": [
    "#导入push_commits.email字段数据\n",
    "data = pd.read_csv(\"paddle.csv\",usecols=[\"push_commits.email\"])"
   ]
  },
  {
   "cell_type": "code",
   "execution_count": 17,
   "metadata": {},
   "outputs": [],
   "source": [
    "data=data[data[\"push_commits.email\"] != '[]']\n",
    "data.reset_index(drop=True,inplace=True)"
   ]
  },
  {
   "cell_type": "code",
   "execution_count": 18,
   "metadata": {},
   "outputs": [
    {
     "data": {
      "text/html": [
       "<div>\n",
       "<style scoped>\n",
       "    .dataframe tbody tr th:only-of-type {\n",
       "        vertical-align: middle;\n",
       "    }\n",
       "\n",
       "    .dataframe tbody tr th {\n",
       "        vertical-align: top;\n",
       "    }\n",
       "\n",
       "    .dataframe thead th {\n",
       "        text-align: right;\n",
       "    }\n",
       "</style>\n",
       "<table border=\"1\" class=\"dataframe\">\n",
       "  <thead>\n",
       "    <tr style=\"text-align: right;\">\n",
       "      <th></th>\n",
       "      <th>push_commits.email</th>\n",
       "    </tr>\n",
       "  </thead>\n",
       "  <tbody>\n",
       "    <tr>\n",
       "      <th>0</th>\n",
       "      <td>['99e7230bbd8a086b5eb37befe832b721fe409432@amd...</td>\n",
       "    </tr>\n",
       "    <tr>\n",
       "      <th>1</th>\n",
       "      <td>['f3ce4b63c7673b41bc56f0e315e6a2612c5bfa6f@bai...</td>\n",
       "    </tr>\n",
       "    <tr>\n",
       "      <th>2</th>\n",
       "      <td>['99e7230bbd8a086b5eb37befe832b721fe409432@amd...</td>\n",
       "    </tr>\n",
       "    <tr>\n",
       "      <th>3</th>\n",
       "      <td>['f3ce4b63c7673b41bc56f0e315e6a2612c5bfa6f@bai...</td>\n",
       "    </tr>\n",
       "    <tr>\n",
       "      <th>4</th>\n",
       "      <td>['99e7230bbd8a086b5eb37befe832b721fe409432@amd...</td>\n",
       "    </tr>\n",
       "    <tr>\n",
       "      <th>...</th>\n",
       "      <td>...</td>\n",
       "    </tr>\n",
       "    <tr>\n",
       "      <th>70255</th>\n",
       "      <td>['d798e66d36dc4f69bb7eaaedcffa66f9206e5432@gma...</td>\n",
       "    </tr>\n",
       "    <tr>\n",
       "      <th>70256</th>\n",
       "      <td>['aba0b3975ab872d51533db23dd12d77e3b95daf7@163...</td>\n",
       "    </tr>\n",
       "    <tr>\n",
       "      <th>70257</th>\n",
       "      <td>['07b5d9b651da5805a63d79c73eb29529e3ff711d@bai...</td>\n",
       "    </tr>\n",
       "    <tr>\n",
       "      <th>70258</th>\n",
       "      <td>['6b0c1435f69ec143e91a07abfa2caa7910629c2d@int...</td>\n",
       "    </tr>\n",
       "    <tr>\n",
       "      <th>70259</th>\n",
       "      <td>['557fecfca04a76fa7eb3c2c968b1d351a6c8eb0e@bai...</td>\n",
       "    </tr>\n",
       "  </tbody>\n",
       "</table>\n",
       "<p>70260 rows × 1 columns</p>\n",
       "</div>"
      ],
      "text/plain": [
       "                                      push_commits.email\n",
       "0      ['99e7230bbd8a086b5eb37befe832b721fe409432@amd...\n",
       "1      ['f3ce4b63c7673b41bc56f0e315e6a2612c5bfa6f@bai...\n",
       "2      ['99e7230bbd8a086b5eb37befe832b721fe409432@amd...\n",
       "3      ['f3ce4b63c7673b41bc56f0e315e6a2612c5bfa6f@bai...\n",
       "4      ['99e7230bbd8a086b5eb37befe832b721fe409432@amd...\n",
       "...                                                  ...\n",
       "70255  ['d798e66d36dc4f69bb7eaaedcffa66f9206e5432@gma...\n",
       "70256  ['aba0b3975ab872d51533db23dd12d77e3b95daf7@163...\n",
       "70257  ['07b5d9b651da5805a63d79c73eb29529e3ff711d@bai...\n",
       "70258  ['6b0c1435f69ec143e91a07abfa2caa7910629c2d@int...\n",
       "70259  ['557fecfca04a76fa7eb3c2c968b1d351a6c8eb0e@bai...\n",
       "\n",
       "[70260 rows x 1 columns]"
      ]
     },
     "execution_count": 18,
     "metadata": {},
     "output_type": "execute_result"
    }
   ],
   "source": [
    "data"
   ]
  },
  {
   "cell_type": "code",
   "execution_count": 19,
   "metadata": {},
   "outputs": [],
   "source": [
    "emails=[]"
   ]
  },
  {
   "cell_type": "code",
   "execution_count": 20,
   "metadata": {},
   "outputs": [
    {
     "data": {
      "text/plain": [
       "0        None\n",
       "1        None\n",
       "2        None\n",
       "3        None\n",
       "4        None\n",
       "         ... \n",
       "70255    None\n",
       "70256    None\n",
       "70257    None\n",
       "70258    None\n",
       "70259    None\n",
       "Name: push_commits.email, Length: 70260, dtype: object"
      ]
     },
     "execution_count": 20,
     "metadata": {},
     "output_type": "execute_result"
    }
   ],
   "source": [
    "#对push_commits.email字段进行处理，提取出@后面的字段\n",
    "data[\"push_commits.email\"].map(lambda x: emails.extend(list(set(x.replace(\"'\",\"\").replace(\"[\",\"\").replace(\"]\",\"\").split(\",\")))))"
   ]
  },
  {
   "cell_type": "code",
   "execution_count": null,
   "metadata": {},
   "outputs": [],
   "source": [
    "emails"
   ]
  },
  {
   "cell_type": "code",
   "execution_count": 22,
   "metadata": {},
   "outputs": [],
   "source": [
    "organizations=[]"
   ]
  },
  {
   "cell_type": "code",
   "execution_count": 23,
   "metadata": {},
   "outputs": [
    {
     "name": "stdout",
     "output_type": "stream",
     "text": [
      "fae191c09d734da5573d6b431e75c5f83f0ef692\n",
      "fae191c09d734da5573d6b431e75c5f83f0ef692\n",
      "2ba79a81bd09dde81867575b761cd8d556303f8d\n",
      "c29d2d7d91847c1855aadfe49f20478e359e7430\n",
      "d27e6061286198cc84eca7d1c1ed276fdf41f08b\n",
      "zhangjin12138\n",
      "d27e6061286198cc84eca7d1c1ed276fdf41f08b\n",
      "3a41f38cedf2c009f013a3820b6d0f396ed13384\n",
      "3a41f38cedf2c009f013a3820b6d0f396ed13384\n",
      "3a41f38cedf2c009f013a3820b6d0f396ed13384\n",
      "3a41f38cedf2c009f013a3820b6d0f396ed13384\n",
      "158f99446875272f46baede00c37b42ac3287021\n",
      "660fbf1b894cf87b5e82da63c9fba34240012ede\n",
      "158f99446875272f46baede00c37b42ac3287021\n",
      "158f99446875272f46baede00c37b42ac3287021\n",
      "158f99446875272f46baede00c37b42ac3287021\n",
      "9a76a857ad399b492ba01879d0fa2d717e4430b2\n",
      "fcd260e33e89f9e48e6fa5fc5a9058bd9e7a054d\n",
      "7e4c11485240bd6118cd02a4b7eae9e1371af924\n",
      "c9a536b4c565d254e25802baa7972eb4d7265f93\n"
     ]
    }
   ],
   "source": [
    "for i in range(len(emails)):\n",
    "    try:\t#写一个 try 把可能出错的代码放进去。\n",
    "        organizations.append(emails[i].split(\"@\")[1])\n",
    "    except IndexError as e:# 写一个except\n",
    "        print(emails[i])\n",
    "    "
   ]
  },
  {
   "cell_type": "code",
   "execution_count": null,
   "metadata": {},
   "outputs": [],
   "source": [
    "organizations"
   ]
  },
  {
   "cell_type": "code",
   "execution_count": 25,
   "metadata": {},
   "outputs": [
    {
     "name": "stdout",
     "output_type": "stream",
     "text": [
      "{'amd.com': 29, 'users.noreply.github.com': 19793, 'baidu.com': 25834, 'gmail.com': 8979, 'mails.ucas.ac.cn': 41, '163.com': 9512, 'icloud.com': 10, '126.com': 2659, 'intel.com': 867, 'qq.com': 11546, 'hotmail.com': 607, 'outlook.com': 1437, 'student.swin.edu.au': 1, 'seas.upenn.edu': 18, 'yeah.net': 228, 'yq01-gpu-255-129-11-00.epc.baidu.com': 3, '139.com': 67, 'ethanbai.com': 199, 'yq01-qianmo-com-255-100-15.yq01.baidu.com': 1, 'live.com': 216, 'bit.edu.cn': 603, 'ucsd.edu': 85, 'instance-e7264l8j.bcc-szth.baidu.com': 1, 'gamil.com': 3, 'foxmail.com': 1595, 'cloudopt.net': 1, 'live.cn': 147, 'ufoym.com': 1, 'yq01-qianmo-com-255-129-12.yq01.baidu.com': 5, 'yq01-ps-201704-m12-heng0.yq01.baidu.com': 2, 'github.com': 83, 'example.com': 16, 'nervana-skx42.fm.intel.com': 1, 'yq01-gpu-255-142-20-00.epc.baidu.com': 1, 'sina.cn': 104, 'yq01-gpu-151-22-00.epc.baidu.com': 3, 'orange.com': 5, 'stu.hit.edu.cn': 2, 'aliyun.com': 59, 'sina.com': 308, 'instance-0trrqgec-3.novalocal': 4, 'mail.ustc.edu.cn': 19, 'ustc.edu.cn': 2, 'yale.edu': 1, 'nyu.edu': 4, 'msn.com': 5, 'bjtu.edu.cn': 74, 'cumt.edu.cn': 1, 'michael-fandeMacBook-Air.local': 4, 'mails.ccnu.edu.cn': 4, '11.com': 3, 'mediatek.com': 4, 'yq01-qianmo-com-88-156-28.yq01.baidu.com': 5, 'daheng-image.com': 10, 'bupt.edu.cn': 26, 'sohu.com': 3, 'unisound.com': 2, 'baidudeMacBook-Pro.local': 8, 'noplz.name': 3, 'internal.baidu.com': 1, 'mails.tsinghua.edu.cn': 2, 'yq01-sys-hic-k8s-v100-qm-a225-0004.yq01.baidu.com': 12, 'bu.edu': 4, 'sjtu.edu.cn': 3, 'pku.edu.cn': 94, 'thunisoft.com': 1, 'yq01-gpu-127-1-139-00.epc.baidu.com': 4, 'me.com': 11, 'Gmail.com': 7, 'yq01-gpu-255-125-22-02.epc.baidu.com': 1, 'mail.sustech.edu.cn': 1, 'nvidia.com': 36, 'inspur.com': 6, '592712189': 1, 'gzbh-qianmo-com-162-69-147.gzbh.baidu.com': 2, 'baifendian.com': 52, 'linux.laptop': 3, 'btw5088.local': 1, 'hmc.edu': 12, 'protonmail.com': 7, 'intelcom': 1, 'qmul.ac.uk': 3, 'ucalgary.ca': 56, 'chinaunicom.cn': 2, 'yahoo.com': 447, 'zilliz.com': 3, 'horizon.ai': 2, 'smail.nju.edu.cn': 2, 'emweb.be': 1, 'yq01-gpu-255-137-23-01.epc.baidu.com': 2, 'yq01-qianmo-com-255-129-13.yq01.baidu.com': 1, 'privc-dev.(none)': 1, 'Michael-Fans-MacBook-Pro.local': 1, 'ust.hk': 4, 'nottingham.ac.uk': 1, 'szth-rp-fanyi-opera49.szth.baidu.com': 1, 'puqing.work': 4, 'stu.xmu.edu.cn': 1, 'MacBook-Pro.local': 6, 'bjtu.edn.cn': 4, 'naiver.org': 2, 'yq01-idl-gpu-jpaas-let01.yq01.baidu.com': 2, 'c02t46pggtfm-jc.local': 1, 'interia.eu': 2, 'YideMacBook-Pro.local': 1, 'yq01-idl-gpu-jpaas-mgr00.yq01.baidu.com': 3, 'tju.edu.cn': 136, 'baidu.com\\xa0\\xa0': 1, 'syr.edu': 2, 'szth-rp-fanyi-opera11.szth.baidu.com': 1, 'pzoomspace.cn': 1, 'cambricon.com': 29, 'graphcore.ai': 59, 'fanrui.net': 3, 'linhan.email': 2, 'haha.com': 1, 'Michael-FandeiMac.local': 1, 'ebu.ch': 1, 'baidudeMacBook-Pro-2.local': 4, 'cug.edu.cn': 1, 'zego.im': 1, 'bjyz-sys-gpu-kongming5.bjyz.baidu.com': 1, 'yq01-gpu-255-134-17-00.epc.baidu.com': 2, 'yq01-gpu-255-129-13-00.epc.baidu.com': 4, 'berkeley.edu': 5, 'yq01-sys-hic-k8s-v100-box-a225-0562.yq01.baidu.com': 2, 'bjyz-sys-gpu-kongming3.bjyz.baidu.com': 5, 'duke.edu': 4, 'mail.hfut.edu.cn': 1, 'ncic.ac.cn': 7, 'winwin-inc.com': 2, 'tiaozhan.com': 1, 'huggingface.co': 1, 'uic.edu': 1, 'tianweijuan01deMacBook-Pro.local': 3, 'u.northwestern.edu': 4, 'macdeMacBook-Pro.local': 3, 'qq.comm': 1, 'dingjiaweideMacBook-Pro.local': 1, 'whu.edu.cn': 18, 'usopp.net': 2, 'bjyz-sys-gpu-kongming9.bjyz.baidu.com': 1, 'user.noreply.gitee.com': 4, 'ringcentral.com': 1, 'szth-yc2-bce-ai2b-audio-727612.szth.baidu.com': 1, '6017249efecc.(none)': 1, 'yq01-gpu-255-125-22-01.epc.baidu.com': 2, 'yq01-gpu-yq-adu-1-37.epc.baidu.com': 1, 'baidudeMacBook-Pro-4.local': 3, 'bjyz-sys-gpu-kongming2.bjyz.baidu.com': 5, 'columbia.edu': 3, 'hujings-MacBook-Pro.local': 1, 'baidudeMacBook-Pro-150.local': 2, 'coniri.com': 2, 'lirui.tech': 1, 'mail.tsinghua.edu.cn': 4, 'bjyz-sys-gpu-kongming4.bjyz.baidu.com': 1, 'baiduc.om': 1, 'mail.utoronto.ca': 20, 'xiebaiyuandeMacBook-Pro.local': 1, 'yq01-qianmo-com-88-160-26.yq01.baidu.com': 1, 'yq01-idl-gpu-online20.yq01.baidu.com': 7, 'naver.com': 1, 'MacintoshdeMacBook-Pro.local': 6, 'arm.com': 1, 'backchorddeMacBook-Air.local': 1, 'media-smart.cn': 1, 'rancidbacon.com': 1, 'gatech.edu': 3, 'YingdeMacBook-Pro.local': 1, 'MacBook-Pro-91.local': 1, 'foxmai.com': 2, 'mail.bnu.edu.cn': 1, 'gzhxy-q3-bce-cloud-60.epc.baidu.com': 2, 'MacBook-Pro-9.local': 1, 'taozj.org': 1, '163.om': 2, 'yq01-gpu-88-160-26-00.epc.baidu.com': 2, 'mor.com.vn': 1, 'wanglun.org': 2, 'mail.nankai.edu.cn': 1, 'c90ea702096f.(none)': 1, 'opencurriculum.org': 8, 'sabayon.local': 2, 'bitmain.com': 4, 'gmail': 2, 'umich.edu': 8, 'students.lfanet.org': 7, 'openailab.com': 2, 'localhost.localdomain': 2, 'yq01-gpu-255-100-15-00.epc.baidu.com': 4, 'yq01-gpu-255-125-19-00.epc.baidu.com': 1, 'yq01-sys-hic-p40-box-a12-0057.yq01.baidu.com': 3, 'yq01-gpu-255-129-15-00.epc.baidu.com': 1, 'yq01-gpu-255-100-11-00.epc.baidu.com': 2, 'jeffs-mbp.lan': 3, 'yq01-gpu-255-134-11-01.epc.baidu.com': 1, 'chenhoujiangdeMacBook-Pro.local': 1}\n"
     ]
    }
   ],
   "source": [
    "#进行词频统计\n",
    "temp = Counter(organizations)\n",
    "print (dict(temp))"
   ]
  },
  {
   "cell_type": "code",
   "execution_count": 26,
   "metadata": {},
   "outputs": [],
   "source": [
    "res = sorted(temp.items(), key = lambda x:x[1],reverse=True)"
   ]
  },
  {
   "cell_type": "code",
   "execution_count": null,
   "metadata": {},
   "outputs": [],
   "source": [
    "res"
   ]
  },
  {
   "cell_type": "code",
   "execution_count": 28,
   "metadata": {},
   "outputs": [
    {
     "data": {
      "text/plain": [
       "0"
      ]
     },
     "execution_count": 28,
     "metadata": {},
     "output_type": "execute_result"
    }
   ],
   "source": [
    "del data,temp,organizations,res,emails\n",
    "gc.collect()"
   ]
  },
  {
   "cell_type": "markdown",
   "metadata": {},
   "source": [
    "### 开发者所在的时区分析"
   ]
  },
  {
   "cell_type": "code",
   "execution_count": 29,
   "metadata": {},
   "outputs": [],
   "source": [
    "#导入actor_id和created_at字段\n",
    "data = pd.read_csv(\"paddle.csv\",usecols=[\"actor_id\",\"created_at\"])"
   ]
  },
  {
   "cell_type": "code",
   "execution_count": 30,
   "metadata": {},
   "outputs": [
    {
     "name": "stdout",
     "output_type": "stream",
     "text": [
      "<class 'pandas.core.frame.DataFrame'>\n",
      "RangeIndex: 802652 entries, 0 to 802651\n",
      "Data columns (total 2 columns):\n",
      " #   Column      Non-Null Count   Dtype \n",
      "---  ------      --------------   ----- \n",
      " 0   actor_id    802652 non-null  int64 \n",
      " 1   created_at  802652 non-null  object\n",
      "dtypes: int64(1), object(1)\n",
      "memory usage: 12.2+ MB\n"
     ]
    }
   ],
   "source": [
    "data.info()"
   ]
  },
  {
   "cell_type": "code",
   "execution_count": 31,
   "metadata": {},
   "outputs": [],
   "source": [
    "#转化为日期类型\n",
    "data[\"created_at\"] = pd.to_datetime(data[\"created_at\"])"
   ]
  },
  {
   "cell_type": "code",
   "execution_count": 32,
   "metadata": {},
   "outputs": [],
   "source": [
    "#根据actor_id字段进行聚合统计\n",
    "df=data.groupby(['actor_id']).count().reset_index(drop=False).rename(columns={'created_at':'times'}).sort_values(by=\"times\",ascending=False)"
   ]
  },
  {
   "cell_type": "code",
   "execution_count": 33,
   "metadata": {},
   "outputs": [],
   "source": [
    "#找出活跃次数超过50的开发者\n",
    "df=df[df.times>50].reset_index(drop=True)"
   ]
  },
  {
   "cell_type": "code",
   "execution_count": 34,
   "metadata": {},
   "outputs": [
    {
     "data": {
      "text/html": [
       "<div>\n",
       "<style scoped>\n",
       "    .dataframe tbody tr th:only-of-type {\n",
       "        vertical-align: middle;\n",
       "    }\n",
       "\n",
       "    .dataframe tbody tr th {\n",
       "        vertical-align: top;\n",
       "    }\n",
       "\n",
       "    .dataframe thead th {\n",
       "        text-align: right;\n",
       "    }\n",
       "</style>\n",
       "<table border=\"1\" class=\"dataframe\">\n",
       "  <thead>\n",
       "    <tr style=\"text-align: right;\">\n",
       "      <th></th>\n",
       "      <th>actor_id</th>\n",
       "      <th>times</th>\n",
       "    </tr>\n",
       "  </thead>\n",
       "  <tbody>\n",
       "    <tr>\n",
       "      <th>0</th>\n",
       "      <td>63029101</td>\n",
       "      <td>91820</td>\n",
       "    </tr>\n",
       "    <tr>\n",
       "      <th>1</th>\n",
       "      <td>6836917</td>\n",
       "      <td>14613</td>\n",
       "    </tr>\n",
       "    <tr>\n",
       "      <th>2</th>\n",
       "      <td>7845005</td>\n",
       "      <td>10542</td>\n",
       "    </tr>\n",
       "    <tr>\n",
       "      <th>3</th>\n",
       "      <td>728699</td>\n",
       "      <td>6662</td>\n",
       "    </tr>\n",
       "    <tr>\n",
       "      <th>4</th>\n",
       "      <td>19339784</td>\n",
       "      <td>5776</td>\n",
       "    </tr>\n",
       "    <tr>\n",
       "      <th>...</th>\n",
       "      <td>...</td>\n",
       "      <td>...</td>\n",
       "    </tr>\n",
       "    <tr>\n",
       "      <th>904</th>\n",
       "      <td>93587614</td>\n",
       "      <td>51</td>\n",
       "    </tr>\n",
       "    <tr>\n",
       "      <th>905</th>\n",
       "      <td>3112825</td>\n",
       "      <td>51</td>\n",
       "    </tr>\n",
       "    <tr>\n",
       "      <th>906</th>\n",
       "      <td>20597775</td>\n",
       "      <td>51</td>\n",
       "    </tr>\n",
       "    <tr>\n",
       "      <th>907</th>\n",
       "      <td>21244547</td>\n",
       "      <td>51</td>\n",
       "    </tr>\n",
       "    <tr>\n",
       "      <th>908</th>\n",
       "      <td>61859193</td>\n",
       "      <td>51</td>\n",
       "    </tr>\n",
       "  </tbody>\n",
       "</table>\n",
       "<p>909 rows × 2 columns</p>\n",
       "</div>"
      ],
      "text/plain": [
       "     actor_id  times\n",
       "0    63029101  91820\n",
       "1     6836917  14613\n",
       "2     7845005  10542\n",
       "3      728699   6662\n",
       "4    19339784   5776\n",
       "..        ...    ...\n",
       "904  93587614     51\n",
       "905   3112825     51\n",
       "906  20597775     51\n",
       "907  21244547     51\n",
       "908  61859193     51\n",
       "\n",
       "[909 rows x 2 columns]"
      ]
     },
     "execution_count": 34,
     "metadata": {},
     "output_type": "execute_result"
    }
   ],
   "source": [
    "df"
   ]
  },
  {
   "cell_type": "code",
   "execution_count": null,
   "metadata": {},
   "outputs": [],
   "source": [
    "#参考这篇文章进行开发者时区的统计分析：http://oss.x-lab.info/github-insight-report-2020.pdf\n",
    "zones=[]\n",
    "for i in range(len(df)):\n",
    "    id=df.actor_id.values[i]\n",
    "    temp=data[data.actor_id==id]\n",
    "    temp[\"hour\"]=temp.created_at.dt.strftime(\"%H\").astype(int)\n",
    "    k=max(temp['hour'].value_counts(normalize=True).index[:12])\n",
    "    if(k>8):\n",
    "        zone = 20 - k\n",
    "    else:\n",
    "        zone = -4 - k\n",
    "    zones.append(zone)\n"
   ]
  },
  {
   "cell_type": "code",
   "execution_count": 36,
   "metadata": {},
   "outputs": [
    {
     "data": {
      "text/plain": [
       " 7     272\n",
       " 6     201\n",
       " 5     138\n",
       " 8      91\n",
       " 4      56\n",
       "-3      50\n",
       " 3      43\n",
       " 9      11\n",
       " 2       9\n",
       " 10      8\n",
       "-1       7\n",
       " 11      7\n",
       "-2       6\n",
       " 1       5\n",
       " 0       4\n",
       "-5       1\n",
       "dtype: int64"
      ]
     },
     "execution_count": 36,
     "metadata": {},
     "output_type": "execute_result"
    }
   ],
   "source": [
    "pd.DataFrame(zones).value_counts()"
   ]
  },
  {
   "cell_type": "code",
   "execution_count": 37,
   "metadata": {},
   "outputs": [
    {
     "data": {
      "text/plain": [
       "(array([  1.,  56.,   7.,   9.,   9.,  99., 339., 272., 102.,  15.]),\n",
       " array([-5. , -3.4, -1.8, -0.2,  1.4,  3. ,  4.6,  6.2,  7.8,  9.4, 11. ]),\n",
       " <BarContainer object of 10 artists>)"
      ]
     },
     "execution_count": 37,
     "metadata": {},
     "output_type": "execute_result"
    },
    {
     "data": {
      "image/png": "[encoded data removed]",
      "text/plain": [
       "<Figure size 640x480 with 1 Axes>"
      ]
     },
     "metadata": {},
     "output_type": "display_data"
    }
   ],
   "source": [
    "plt.hist(zones)"
   ]
  },
  {
   "cell_type": "markdown",
   "metadata": {},
   "source": [
    "### 10名典型开发者时区分析"
   ]
  },
  {
   "cell_type": "code",
   "execution_count": 38,
   "metadata": {},
   "outputs": [
    {
     "name": "stdout",
     "output_type": "stream",
     "text": [
      "7\n"
     ]
    },
    {
     "name": "stderr",
     "output_type": "stream",
     "text": [
      "/var/folders/v5/vrnscfp50517qvkjzr6km82m0000gn/T/ipykernel_7287/1785626492.py:4: SettingWithCopyWarning: \n",
      "A value is trying to be set on a copy of a slice from a DataFrame.\n",
      "Try using .loc[row_indexer,col_indexer] = value instead\n",
      "\n",
      "See the caveats in the documentation: https://pandas.pydata.org/pandas-docs/stable/user_guide/indexing.html#returning-a-view-versus-a-copy\n",
      "  temp[\"hour\"]=temp.created_at.dt.strftime(\"%H\").astype(int)\n"
     ]
    }
   ],
   "source": [
    "#'luotao1'所在的时区\n",
    "id=6836917\n",
    "temp=data[data.actor_id==id]\n",
    "temp[\"hour\"]=temp.created_at.dt.strftime(\"%H\").astype(int)\n",
    "k=max(temp['hour'].value_counts(normalize=True).index[:12])\n",
    "if(k>8):\n",
    "    zone = 20 - k\n",
    "else:\n",
    "    zone = -4 - k\n",
    "print(zone)\n"
   ]
  },
  {
   "cell_type": "code",
   "execution_count": 39,
   "metadata": {},
   "outputs": [
    {
     "name": "stdout",
     "output_type": "stream",
     "text": [
      "7\n"
     ]
    },
    {
     "name": "stderr",
     "output_type": "stream",
     "text": [
      "/var/folders/v5/vrnscfp50517qvkjzr6km82m0000gn/T/ipykernel_7287/2213589798.py:4: SettingWithCopyWarning: \n",
      "A value is trying to be set on a copy of a slice from a DataFrame.\n",
      "Try using .loc[row_indexer,col_indexer] = value instead\n",
      "\n",
      "See the caveats in the documentation: https://pandas.pydata.org/pandas-docs/stable/user_guide/indexing.html#returning-a-view-versus-a-copy\n",
      "  temp[\"hour\"]=temp.created_at.dt.strftime(\"%H\").astype(int)\n"
     ]
    }
   ],
   "source": [
    "#'qingqing01'所在的时区\n",
    "id=7845005\n",
    "temp=data[data.actor_id==id]\n",
    "temp[\"hour\"]=temp.created_at.dt.strftime(\"%H\").astype(int)\n",
    "k=max(temp['hour'].value_counts(normalize=True).index[:12])\n",
    "if(k>8):\n",
    "    zone = 20 - k\n",
    "else:\n",
    "    zone = -4 - k\n",
    "print(zone)\n"
   ]
  },
  {
   "cell_type": "code",
   "execution_count": 40,
   "metadata": {},
   "outputs": [
    {
     "name": "stderr",
     "output_type": "stream",
     "text": [
      "/var/folders/v5/vrnscfp50517qvkjzr6km82m0000gn/T/ipykernel_7287/374597300.py:4: SettingWithCopyWarning: \n",
      "A value is trying to be set on a copy of a slice from a DataFrame.\n",
      "Try using .loc[row_indexer,col_indexer] = value instead\n",
      "\n",
      "See the caveats in the documentation: https://pandas.pydata.org/pandas-docs/stable/user_guide/indexing.html#returning-a-view-versus-a-copy\n",
      "  temp[\"hour\"]=temp.created_at.dt.strftime(\"%H\").astype(int)\n"
     ]
    }
   ],
   "source": [
    "#'reyoung'所在的时区\n",
    "id=728699\n",
    "temp=data[data.actor_id==id]\n",
    "temp[\"hour\"]=temp.created_at.dt.strftime(\"%H\").astype(int)\n"
   ]
  },
  {
   "cell_type": "code",
   "execution_count": 41,
   "metadata": {},
   "outputs": [
    {
     "data": {
      "text/plain": [
       "2     0.113329\n",
       "3     0.098019\n",
       "8     0.095617\n",
       "4     0.093215\n",
       "7     0.090964\n",
       "6     0.082858\n",
       "5     0.081807\n",
       "9     0.072801\n",
       "10    0.042630\n",
       "11    0.034074\n",
       "1     0.021915\n",
       "21    0.019514\n",
       "12    0.018913\n",
       "22    0.018463\n",
       "23    0.015911\n",
       "17    0.015461\n",
       "18    0.015461\n",
       "13    0.015011\n",
       "14    0.014260\n",
       "20    0.012159\n",
       "0     0.011108\n",
       "19    0.007505\n",
       "15    0.006004\n",
       "16    0.003002\n",
       "Name: hour, dtype: float64"
      ]
     },
     "execution_count": 41,
     "metadata": {},
     "output_type": "execute_result"
    }
   ],
   "source": [
    "#所在时区应该为8\n",
    "temp['hour'].value_counts(normalize=True)"
   ]
  },
  {
   "cell_type": "code",
   "execution_count": 42,
   "metadata": {},
   "outputs": [
    {
     "name": "stdout",
     "output_type": "stream",
     "text": [
      "7\n"
     ]
    },
    {
     "name": "stderr",
     "output_type": "stream",
     "text": [
      "/var/folders/v5/vrnscfp50517qvkjzr6km82m0000gn/T/ipykernel_7287/2227208829.py:4: SettingWithCopyWarning: \n",
      "A value is trying to be set on a copy of a slice from a DataFrame.\n",
      "Try using .loc[row_indexer,col_indexer] = value instead\n",
      "\n",
      "See the caveats in the documentation: https://pandas.pydata.org/pandas-docs/stable/user_guide/indexing.html#returning-a-view-versus-a-copy\n",
      "  temp[\"hour\"]=temp.created_at.dt.strftime(\"%H\").astype(int)\n"
     ]
    }
   ],
   "source": [
    "#'Xreki'所在的时区\n",
    "id=12538138\n",
    "temp=data[data.actor_id==id]\n",
    "temp[\"hour\"]=temp.created_at.dt.strftime(\"%H\").astype(int)\n",
    "k=max(temp['hour'].value_counts(normalize=True).index[:12])\n",
    "if(k>8):\n",
    "    zone = 20 - k\n",
    "else:\n",
    "    zone = -4 - k\n",
    "print(zone)"
   ]
  },
  {
   "cell_type": "code",
   "execution_count": 43,
   "metadata": {},
   "outputs": [
    {
     "name": "stdout",
     "output_type": "stream",
     "text": [
      "7\n"
     ]
    },
    {
     "name": "stderr",
     "output_type": "stream",
     "text": [
      "/var/folders/v5/vrnscfp50517qvkjzr6km82m0000gn/T/ipykernel_7287/1399776868.py:4: SettingWithCopyWarning: \n",
      "A value is trying to be set on a copy of a slice from a DataFrame.\n",
      "Try using .loc[row_indexer,col_indexer] = value instead\n",
      "\n",
      "See the caveats in the documentation: https://pandas.pydata.org/pandas-docs/stable/user_guide/indexing.html#returning-a-view-versus-a-copy\n",
      "  temp[\"hour\"]=temp.created_at.dt.strftime(\"%H\").astype(int)\n"
     ]
    }
   ],
   "source": [
    "#'chenwhql'所在的时区\n",
    "id=22561442\n",
    "temp=data[data.actor_id==id]\n",
    "temp[\"hour\"]=temp.created_at.dt.strftime(\"%H\").astype(int)\n",
    "k=max(temp['hour'].value_counts(normalize=True).index[:12])\n",
    "if(k>8):\n",
    "    zone = 20 - k\n",
    "else:\n",
    "    zone = -4 - k\n",
    "print(zone)"
   ]
  },
  {
   "cell_type": "code",
   "execution_count": 44,
   "metadata": {},
   "outputs": [
    {
     "name": "stdout",
     "output_type": "stream",
     "text": [
      "8\n"
     ]
    },
    {
     "name": "stderr",
     "output_type": "stream",
     "text": [
      "/var/folders/v5/vrnscfp50517qvkjzr6km82m0000gn/T/ipykernel_7287/819215340.py:4: SettingWithCopyWarning: \n",
      "A value is trying to be set on a copy of a slice from a DataFrame.\n",
      "Try using .loc[row_indexer,col_indexer] = value instead\n",
      "\n",
      "See the caveats in the documentation: https://pandas.pydata.org/pandas-docs/stable/user_guide/indexing.html#returning-a-view-versus-a-copy\n",
      "  temp[\"hour\"]=temp.created_at.dt.strftime(\"%H\").astype(int)\n"
     ]
    }
   ],
   "source": [
    "#'typhoonzero'所在的时区\n",
    "id=13348433\n",
    "temp=data[data.actor_id==id]\n",
    "temp[\"hour\"]=temp.created_at.dt.strftime(\"%H\").astype(int)\n",
    "k=max(temp['hour'].value_counts(normalize=True).index[:12])\n",
    "if(k>8):\n",
    "    zone = 20 - k\n",
    "else:\n",
    "    zone = -4 - k\n",
    "print(zone)\n"
   ]
  },
  {
   "cell_type": "code",
   "execution_count": 45,
   "metadata": {},
   "outputs": [
    {
     "name": "stdout",
     "output_type": "stream",
     "text": [
      "8\n"
     ]
    },
    {
     "name": "stderr",
     "output_type": "stream",
     "text": [
      "/var/folders/v5/vrnscfp50517qvkjzr6km82m0000gn/T/ipykernel_7287/2226373186.py:4: SettingWithCopyWarning: \n",
      "A value is trying to be set on a copy of a slice from a DataFrame.\n",
      "Try using .loc[row_indexer,col_indexer] = value instead\n",
      "\n",
      "See the caveats in the documentation: https://pandas.pydata.org/pandas-docs/stable/user_guide/indexing.html#returning-a-view-versus-a-copy\n",
      "  temp[\"hour\"]=temp.created_at.dt.strftime(\"%H\").astype(int)\n"
     ]
    }
   ],
   "source": [
    "#'TCChenlong'所在的时区\n",
    "id=11935832\n",
    "temp=data[data.actor_id==id]\n",
    "temp[\"hour\"]=temp.created_at.dt.strftime(\"%H\").astype(int)\n",
    "k=max(temp['hour'].value_counts(normalize=True).index[:12])\n",
    "if(k>8):\n",
    "    zone = 20 - k\n",
    "else:\n",
    "    zone = -4 - k\n",
    "print(zone)"
   ]
  },
  {
   "cell_type": "code",
   "execution_count": 46,
   "metadata": {},
   "outputs": [
    {
     "name": "stdout",
     "output_type": "stream",
     "text": [
      "8\n"
     ]
    },
    {
     "name": "stderr",
     "output_type": "stream",
     "text": [
      "/var/folders/v5/vrnscfp50517qvkjzr6km82m0000gn/T/ipykernel_7287/885864616.py:4: SettingWithCopyWarning: \n",
      "A value is trying to be set on a copy of a slice from a DataFrame.\n",
      "Try using .loc[row_indexer,col_indexer] = value instead\n",
      "\n",
      "See the caveats in the documentation: https://pandas.pydata.org/pandas-docs/stable/user_guide/indexing.html#returning-a-view-versus-a-copy\n",
      "  temp[\"hour\"]=temp.created_at.dt.strftime(\"%H\").astype(int)\n"
     ]
    }
   ],
   "source": [
    "#'gongweibao'所在的时区\n",
    "id=10721757\n",
    "temp=data[data.actor_id==id]\n",
    "temp[\"hour\"]=temp.created_at.dt.strftime(\"%H\").astype(int)\n",
    "k=max(temp['hour'].value_counts(normalize=True).index[:12])\n",
    "if(k>8):\n",
    "    zone = 20 - k\n",
    "else:\n",
    "    zone = -4 - k\n",
    "print(zone)"
   ]
  },
  {
   "cell_type": "code",
   "execution_count": 47,
   "metadata": {},
   "outputs": [
    {
     "name": "stdout",
     "output_type": "stream",
     "text": [
      "7\n"
     ]
    },
    {
     "name": "stderr",
     "output_type": "stream",
     "text": [
      "/var/folders/v5/vrnscfp50517qvkjzr6km82m0000gn/T/ipykernel_7287/3747123620.py:4: SettingWithCopyWarning: \n",
      "A value is trying to be set on a copy of a slice from a DataFrame.\n",
      "Try using .loc[row_indexer,col_indexer] = value instead\n",
      "\n",
      "See the caveats in the documentation: https://pandas.pydata.org/pandas-docs/stable/user_guide/indexing.html#returning-a-view-versus-a-copy\n",
      "  temp[\"hour\"]=temp.created_at.dt.strftime(\"%H\").astype(int)\n"
     ]
    }
   ],
   "source": [
    "#'littletomatodonkey'所在的时区\n",
    "id=14270174\n",
    "temp=data[data.actor_id==id]\n",
    "temp[\"hour\"]=temp.created_at.dt.strftime(\"%H\").astype(int)\n",
    "k=max(temp['hour'].value_counts(normalize=True).index[:12])\n",
    "if(k>8):\n",
    "    zone = 20 - k\n",
    "else:\n",
    "    zone = -4 - k\n",
    "print(zone)"
   ]
  },
  {
   "cell_type": "code",
   "execution_count": 48,
   "metadata": {},
   "outputs": [
    {
     "name": "stdout",
     "output_type": "stream",
     "text": [
      "-3\n"
     ]
    },
    {
     "name": "stderr",
     "output_type": "stream",
     "text": [
      "/var/folders/v5/vrnscfp50517qvkjzr6km82m0000gn/T/ipykernel_7287/1613414860.py:4: SettingWithCopyWarning: \n",
      "A value is trying to be set on a copy of a slice from a DataFrame.\n",
      "Try using .loc[row_indexer,col_indexer] = value instead\n",
      "\n",
      "See the caveats in the documentation: https://pandas.pydata.org/pandas-docs/stable/user_guide/indexing.html#returning-a-view-versus-a-copy\n",
      "  temp[\"hour\"]=temp.created_at.dt.strftime(\"%H\").astype(int)\n"
     ]
    }
   ],
   "source": [
    "#'wangkuiyi'所在的时区\n",
    "id=1548775\n",
    "temp=data[data.actor_id==id]\n",
    "temp[\"hour\"]=temp.created_at.dt.strftime(\"%H\").astype(int)\n",
    "k=max(temp['hour'].value_counts(normalize=True).index[:12])\n",
    "if(k>8):\n",
    "    zone = 20 - k\n",
    "else:\n",
    "    zone = -4 - k\n",
    "print(zone)"
   ]
  },
  {
   "cell_type": "code",
   "execution_count": 49,
   "metadata": {},
   "outputs": [
    {
     "name": "stderr",
     "output_type": "stream",
     "text": [
      "/var/folders/v5/vrnscfp50517qvkjzr6km82m0000gn/T/ipykernel_7287/960110664.py:4: SettingWithCopyWarning: \n",
      "A value is trying to be set on a copy of a slice from a DataFrame.\n",
      "Try using .loc[row_indexer,col_indexer] = value instead\n",
      "\n",
      "See the caveats in the documentation: https://pandas.pydata.org/pandas-docs/stable/user_guide/indexing.html#returning-a-view-versus-a-copy\n",
      "  temp[\"hour\"]=temp.created_at.dt.strftime(\"%H\").astype(int)\n"
     ]
    },
    {
     "data": {
      "text/plain": [
       "23    0.079088\n",
       "18    0.075890\n",
       "0     0.073758\n",
       "22    0.072906\n",
       "2     0.065658\n",
       "21    0.065444\n",
       "17    0.060755\n",
       "3     0.060755\n",
       "4     0.059689\n",
       "1     0.058836\n",
       "19    0.058623\n",
       "20    0.054359\n",
       "5     0.047111\n",
       "6     0.036026\n",
       "16    0.035600\n",
       "7     0.023876\n",
       "15    0.020465\n",
       "13    0.015775\n",
       "14    0.014283\n",
       "8     0.008953\n",
       "9     0.004903\n",
       "12    0.004050\n",
       "10    0.002345\n",
       "11    0.000853\n",
       "Name: hour, dtype: float64"
      ]
     },
     "execution_count": 49,
     "metadata": {},
     "output_type": "execute_result"
    }
   ],
   "source": [
    "#'wangkuiyi'所在的时区\n",
    "id=1548775\n",
    "temp=data[data.actor_id==id]\n",
    "temp[\"hour\"]=temp.created_at.dt.strftime(\"%H\").astype(int)\n",
    "temp['hour'].value_counts(normalize=True)"
   ]
  }
 ],
 "metadata": {
  "kernelspec": {
   "display_name": "Python 3.9.13 ('paddle_hackathon')",
   "language": "python",
   "name": "python3"
  },
  "language_info": {
   "codemirror_mode": {
    "name": "ipython",
    "version": 3
   },
   "file_extension": ".py",
   "mimetype": "text/x-python",
   "name": "python",
   "nbconvert_exporter": "python",
   "pygments_lexer": "ipython3",
   "version": "3.9.13"
  },
  "orig_nbformat": 4,
  "vscode": {
   "interpreter": {
    "hash": "e3aff7d50a9c2d8c47183c65471a83ae253694fcc4532e1058164e9d75ab6ee6"
   }
  }
 },
 "nbformat": 4,
 "nbformat_minor": 2
}
